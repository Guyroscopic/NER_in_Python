{
 "cells": [
  {
   "cell_type": "code",
   "execution_count": null,
   "metadata": {},
   "outputs": [],
   "source": [
    "class Data:\n",
    "    \n",
    "    def __init__(self, filename, encoding):\n",
    "        self.filename         = filename\n",
    "        self.encoding         = encoding\n",
    "        self.dataset          = self.load_dataset()\n",
    "        \n",
    "    def load_dataset(self):\n",
    "        data = pd.read_csv(self.filename, encoding=self.encoding).fillna(method='ffill')\n",
    "        return data\n",
    "    \n",
    "    def display_data(self, n):\n",
    "        return self.dataset.head(n)\n",
    "      \n",
    "    def tokenize_data(self, vocab, lower=True, char_level=False):\n",
    "        t = Tokenizer(lower=lower, oov_token='UNK', char_level=char_level)\n",
    "        t.fit_on_texts(list(vocab))\n",
    "\n",
    "        return t\n",
    "\n",
    "    def data_info(self):\n",
    "        n_sentences = len(self.data)\n",
    "        \n",
    "        words     = list(set(self.data['Word'].values))\n",
    "        n_words   = len(words)\n",
    "        \n",
    "        tags      = list(set(self.data['Tag'].values))\n",
    "        n_tags    = len(tags)\n",
    "        \n",
    "        print(f\"Total Sentences : {n_sentences}\\nTotal Number of Words : {n_words}\\nTotal Number of Tags : {n_tags}\")\n",
    "           \n",
    "        "
   ]
  }
 ],
 "metadata": {
  "kernelspec": {
   "display_name": "Python 3",
   "language": "python",
   "name": "python3"
  },
  "language_info": {
   "codemirror_mode": {
    "name": "ipython",
    "version": 3
   },
   "file_extension": ".py",
   "mimetype": "text/x-python",
   "name": "python",
   "nbconvert_exporter": "python",
   "pygments_lexer": "ipython3",
   "version": "3.7.4"
  }
 },
 "nbformat": 4,
 "nbformat_minor": 4
}
