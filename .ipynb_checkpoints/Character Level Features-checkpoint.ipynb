{
 "cells": [
  {
   "cell_type": "code",
   "execution_count": 61,
   "metadata": {},
   "outputs": [],
   "source": [
    "def one_hot_encode(array):\n",
    "    onehot = np.eye(array.shape[0])\n",
    "    return onehot"
   ]
  },
  {
   "cell_type": "code",
   "execution_count": 20,
   "metadata": {},
   "outputs": [],
   "source": [
    "import string\n",
    "import numpy as np\n",
    "\n",
    "def extract_char_feature(char, char_emb):\n",
    "    \n",
    "    char_feat = {\n",
    "        'lower'       : [[1], [0], [0], [0]],\n",
    "        'upper'       : [[0], [1], [0], [0]],\n",
    "        'punctuation' : [[0], [0], [1], [0]],\n",
    "        'other'       : [[0], [0], [0], [1]]\n",
    "    }\n",
    "        \n",
    "    # lower case char\n",
    "    if char.islower():\n",
    "        return np.vstack((char_emb, char_feat['lower']))\n",
    "    # upper case char\n",
    "    elif char.isupper():\n",
    "        return np.vstack((char_emb, char_feat['upper']))\n",
    "    # punctuation\n",
    "    elif char in string.punctuation:\n",
    "        return np.vstack((char_emb, char_feat['punctuation']))\n",
    "    # other\n",
    "    else:\n",
    "        return np.vstack((char_emb, char_feat['other']))\n",
    "    "
   ]
  },
  {
   "cell_type": "code",
   "execution_count": 22,
   "metadata": {},
   "outputs": [
    {
     "data": {
      "text/plain": [
       "array([[0.7251365 ],\n",
       "       [0.0902279 ],\n",
       "       [0.04210258],\n",
       "       [0.15056413],\n",
       "       [0.52300429],\n",
       "       [0.31713974],\n",
       "       [0.58372185],\n",
       "       [0.84868816],\n",
       "       [0.44441305],\n",
       "       [0.6773583 ],\n",
       "       [0.89892919],\n",
       "       [0.99518768],\n",
       "       [0.51310589],\n",
       "       [0.12847914],\n",
       "       [0.38761555],\n",
       "       [0.52039294],\n",
       "       [0.98021282],\n",
       "       [0.12236073],\n",
       "       [0.35358509],\n",
       "       [0.96544753],\n",
       "       [0.33902671],\n",
       "       [0.7414137 ],\n",
       "       [0.521954  ],\n",
       "       [0.15855175],\n",
       "       [0.46933472],\n",
       "       [0.18886766],\n",
       "       [0.88049268],\n",
       "       [0.00116526],\n",
       "       [0.2857981 ],\n",
       "       [0.42264246],\n",
       "       [0.        ],\n",
       "       [0.        ],\n",
       "       [1.        ],\n",
       "       [0.        ]])"
      ]
     },
     "execution_count": 22,
     "metadata": {},
     "output_type": "execute_result"
    }
   ],
   "source": [
    "char_emb = np.random.rand(30,1)\n",
    "char = '.'\n",
    "extract_char_feature(char, char_emb)"
   ]
  },
  {
   "cell_type": "code",
   "execution_count": 65,
   "metadata": {},
   "outputs": [
    {
     "data": {
      "text/plain": [
       "array([[1., 0., 0., 0.],\n",
       "       [0., 1., 0., 0.],\n",
       "       [0., 0., 1., 0.],\n",
       "       [0., 0., 0., 1.]])"
      ]
     },
     "execution_count": 65,
     "metadata": {},
     "output_type": "execute_result"
    }
   ],
   "source": [
    "char_feat = np.array(['lower', 'upper', 'punctuation', 'other'])\n",
    "one_hot_encode(char_feat)"
   ]
  },
  {
   "cell_type": "code",
   "execution_count": null,
   "metadata": {},
   "outputs": [],
   "source": []
  }
 ],
 "metadata": {
  "kernelspec": {
   "display_name": "Python 3",
   "language": "python",
   "name": "python3"
  },
  "language_info": {
   "codemirror_mode": {
    "name": "ipython",
    "version": 3
   },
   "file_extension": ".py",
   "mimetype": "text/x-python",
   "name": "python",
   "nbconvert_exporter": "python",
   "pygments_lexer": "ipython3",
   "version": "3.7.4"
  }
 },
 "nbformat": 4,
 "nbformat_minor": 4
}
