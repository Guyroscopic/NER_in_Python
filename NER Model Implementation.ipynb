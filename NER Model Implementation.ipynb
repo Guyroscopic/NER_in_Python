{
 "cells": [
  {
   "cell_type": "code",
   "execution_count": 21,
   "metadata": {},
   "outputs": [],
   "source": [
    "import pickle\n",
    "import pandas as pd\n",
    "import numpy as np\n",
    "\n",
    "from ner_utils.Sentence import Sentence\n",
    "from ner_utils.Data     import Data\n",
    "\n",
    "import tensorflow as tf\n",
    "from tensorflow.keras.models import Model, Sequential\n",
    "from tensorflow.keras.layers import Input, Conv2D, MaxPooling2D, Dropout, Dense, LSTM, Embedding, Concatenate, Reshape, Permute, Lambda, Bidirectional\n",
    "\n",
    "from tensorflow_addons.layers import CRF"
   ]
  },
  {
   "cell_type": "markdown",
   "metadata": {},
   "source": [
    "### Character Tokenization"
   ]
  },
  {
   "cell_type": "code",
   "execution_count": 2,
   "metadata": {},
   "outputs": [],
   "source": [
    "data = Data('data/ner_datasetreference.csv', encoding='latin1')\n",
    "sentence = Sentence(data.dataset)"
   ]
  },
  {
   "cell_type": "code",
   "execution_count": 29,
   "metadata": {},
   "outputs": [
    {
     "data": {
      "text/plain": [
       "['B-org',\n",
       " 'B-tim',\n",
       " 'I-gpe',\n",
       " 'I-eve',\n",
       " 'B-per',\n",
       " 'B-gpe',\n",
       " 'B-geo',\n",
       " 'I-nat',\n",
       " 'O',\n",
       " 'I-geo',\n",
       " 'I-art',\n",
       " 'B-eve',\n",
       " 'I-per',\n",
       " 'B-nat',\n",
       " 'B-art',\n",
       " 'I-tim',\n",
       " 'I-org']"
      ]
     },
     "execution_count": 29,
     "metadata": {},
     "output_type": "execute_result"
    }
   ],
   "source": [
    "sentence.get_tags()"
   ]
  },
  {
   "cell_type": "code",
   "execution_count": 3,
   "metadata": {},
   "outputs": [],
   "source": [
    "word_list, sentence_list = sentence.get_words_and_sentences()\n",
    "word_sequences, sentence_sequences = data.get_tokenized_sequences(word_list, sentence_list)"
   ]
  },
  {
   "cell_type": "code",
   "execution_count": 4,
   "metadata": {},
   "outputs": [],
   "source": [
    "char_to_idx, word_to_idx, idx_to_char, idx_to_word = data._get_tokens(word_list, sentence_list)"
   ]
  },
  {
   "cell_type": "markdown",
   "metadata": {},
   "source": [
    "### Char Embeddings"
   ]
  },
  {
   "cell_type": "code",
   "execution_count": 5,
   "metadata": {},
   "outputs": [],
   "source": [
    "# getting char voacb\n",
    "# with open('unique_chars.pkl', 'wb') as f:\n",
    "#     pickle.dump(sentence.get_unique_chars(), f)\n",
    "\n",
    "# loading char vocab   \n",
    "with open('unique_chars.pkl', 'rb') as f:\n",
    "    chars = pickle.load(f)"
   ]
  },
  {
   "cell_type": "code",
   "execution_count": 6,
   "metadata": {},
   "outputs": [
    {
     "data": {
      "text/plain": [
       "(4.773359082564433, 2.8246976648249014)"
      ]
     },
     "execution_count": 6,
     "metadata": {},
     "output_type": "execute_result"
    }
   ],
   "source": [
    "# Word info to pass to the model\n",
    "max_word_len, min_word_len, avg_word_len, std_word_len = sentence.get_word_info()\n",
    "avg_word_len, std_word_len"
   ]
  },
  {
   "cell_type": "code",
   "execution_count": 7,
   "metadata": {},
   "outputs": [
    {
     "data": {
      "text/plain": [
       "(104, 1, 21.863987989741236, 7.963596820721575)"
      ]
     },
     "execution_count": 7,
     "metadata": {},
     "output_type": "execute_result"
    }
   ],
   "source": [
    "# Sentence info to pass to the model\n",
    "max_sentence_len, min_sentence_len, avg_sentence_len, std_sentence_len = sentence.get_sentence_info()\n",
    "max_sentence_len, min_sentence_len, avg_sentence_len, std_sentence_len"
   ]
  },
  {
   "cell_type": "code",
   "execution_count": 8,
   "metadata": {},
   "outputs": [
    {
     "data": {
      "text/plain": [
       "(11, 38, 31819)"
      ]
     },
     "execution_count": 8,
     "metadata": {},
     "output_type": "execute_result"
    }
   ],
   "source": [
    "#Word Level Hyper Parameters\n",
    "model_word_len     = int(np.ceil(avg_word_len + 2*std_word_len))\n",
    "char_embedding_dim = 35\n",
    "char_vocab_size    = len(char_to_idx) + 1 #add 1 for padding token\n",
    "window_size        = 3\n",
    "conv_filters       = 30 \n",
    "\n",
    "\n",
    "#Sentence Level Hyper Parameters\n",
    "model_sentence_len = int(np.ceil(avg_sentence_len + 2*std_sentence_len))\n",
    "word_embedding_dim = 100\n",
    "word_vocab_size    = len(word_to_idx) + 1 #add 1 for padding token\n",
    "\n",
    "#Other Hyper Pararmeters\n",
    "dropout_rate    = 0.5\n",
    "n_tags          = 10 \n",
    "\n",
    "model_word_len, model_sentence_len, word_vocab_size"
   ]
  },
  {
   "cell_type": "code",
   "execution_count": 9,
   "metadata": {},
   "outputs": [],
   "source": [
    "def generate_embedding_matrix_from_file(embedding_filename, vocab_size, embedding_dim, key_to_idx):\n",
    "    \n",
    "    with open(embedding_filename, 'r') as f:\n",
    "        # char_embeddings = pickle.load(f)\n",
    "    \n",
    "        embedding_matrix = np.zeros((vocab_size, embedding_dim))\n",
    "        for line in f.readlines():            \n",
    "            embedding_matrix[char_to_idx[line.split[0]]] = np.array(line.split[1:], dtype=np.float32)\n",
    "        \n",
    "    return embedding_matrix  "
   ]
  },
  {
   "cell_type": "code",
   "execution_count": 10,
   "metadata": {
    "scrolled": true
   },
   "outputs": [],
   "source": [
    "char_embedding_matrix = get_char_embedding_matrix('char_embeddings_with_features.pkl', char_vocab_size, char_embedding_dim, char_to_idx)\n"
   ]
  },
  {
   "cell_type": "code",
   "execution_count": 12,
   "metadata": {},
   "outputs": [],
   "source": [
    "#word_embedding_martrix = get_char_embedding_matrix()"
   ]
  },
  {
   "cell_type": "markdown",
   "metadata": {},
   "source": [
    "### Defining the Model"
   ]
  },
  {
   "cell_type": "code",
   "execution_count": 100,
   "metadata": {},
   "outputs": [],
   "source": [
    "#Word Part of Model\n",
    "char_inputs = Input(shape=(model_sentence_len, model_word_len))\n",
    "x           = Lambda(lambda x: tf.reshape(x, (model_sentence_len, model_word_len)))(char_inputs)\n",
    "x           = Embedding(char_vocab_size,\n",
    "                            char_embedding_dim,\n",
    "                            weights=[char_embedding_matrix],\n",
    "                            input_length=max_word_len,\n",
    "                            trainable=True)(x)\n",
    "x           = Permute((2, 1), input_shape=(11, 35))(x)\n",
    "x           = Dropout(dropout_rate)(x)\n",
    "x           = Reshape((35, 11, 1))(x)\n",
    "x           = Conv2D(conv_filters, input_shape=(38, 35, 11, 1), kernel_size=(1, window_size), padding='same')(x)\n",
    "x           = MaxPooling2D(pool_size=(1, model_word_len))(x)\n",
    "x           = Dense(1, input_shape=(35, 1, 30))(x)\n",
    "x           = Reshape((35, ))(x)\n",
    "x           = Lambda(lambda x: tf.expand_dims(x, axis=0))(x)\n",
    "\n",
    "\n",
    "#Sentence Part of Model\n",
    "word_inputs = Input(shape=(model_sentence_len, ))\n",
    "y           = Embedding(word_vocab_size,\n",
    "                            word_embedding_dim,\n",
    "                            #weights=[word_embedding_matrix],\n",
    "                            input_length=max_sentence_len,\n",
    "                            trainable=False)(word_inputs)\n",
    "\n",
    "\n",
    "#Joining the two parts\n",
    "z = Concatenate(axis=2)([y, x])\n",
    "z = Dropout(dropout_rate)(z)\n",
    "z = Bidirectional(LSTM(model_sentence_len, return_sequences=True, recurrent_dropout=dropout_rate))(z)\n",
    "z = Dropout(dropout_rate)(z)\n",
    "z = CRF(n_tags)(z)\n",
    "# outputs, _,  _, _ = z\n",
    "outputs = z\n"
   ]
  },
  {
   "cell_type": "code",
   "execution_count": 101,
   "metadata": {},
   "outputs": [
    {
     "ename": "ValueError",
     "evalue": "Output tensors of a Functional model must be the output of a TensorFlow `Layer` (thus holding past layer metadata). Found: <tensorflow_addons.layers.crf.CRF object at 0x00000191E30F4B80>",
     "output_type": "error",
     "traceback": [
      "\u001b[1;31m---------------------------------------------------------------------------\u001b[0m",
      "\u001b[1;31mValueError\u001b[0m                                Traceback (most recent call last)",
      "\u001b[1;32mC:\\Users\\ABDULR~1\\AppData\\Local\\Temp/ipykernel_12408/1611930518.py\u001b[0m in \u001b[0;36m<module>\u001b[1;34m\u001b[0m\n\u001b[0;32m      1\u001b[0m \u001b[0mtf\u001b[0m\u001b[1;33m.\u001b[0m\u001b[0mrandom\u001b[0m\u001b[1;33m.\u001b[0m\u001b[0mset_seed\u001b[0m\u001b[1;33m(\u001b[0m\u001b[1;36m10\u001b[0m\u001b[1;33m)\u001b[0m\u001b[1;33m\u001b[0m\u001b[1;33m\u001b[0m\u001b[0m\n\u001b[1;32m----> 2\u001b[1;33m \u001b[0mmodel\u001b[0m \u001b[1;33m=\u001b[0m \u001b[0mModel\u001b[0m\u001b[1;33m(\u001b[0m\u001b[0minputs\u001b[0m\u001b[1;33m=\u001b[0m\u001b[1;33m[\u001b[0m\u001b[0mchar_inputs\u001b[0m\u001b[1;33m,\u001b[0m \u001b[0mword_inputs\u001b[0m\u001b[1;33m]\u001b[0m\u001b[1;33m,\u001b[0m \u001b[0moutputs\u001b[0m\u001b[1;33m=\u001b[0m\u001b[0moutputs\u001b[0m\u001b[1;33m)\u001b[0m\u001b[1;33m\u001b[0m\u001b[1;33m\u001b[0m\u001b[0m\n\u001b[0m",
      "\u001b[1;32m~\\AppData\\Local\\Programs\\Python\\Python38\\lib\\site-packages\\tensorflow\\python\\training\\tracking\\base.py\u001b[0m in \u001b[0;36m_method_wrapper\u001b[1;34m(self, *args, **kwargs)\u001b[0m\n\u001b[0;32m    528\u001b[0m     \u001b[0mself\u001b[0m\u001b[1;33m.\u001b[0m\u001b[0m_self_setattr_tracking\u001b[0m \u001b[1;33m=\u001b[0m \u001b[1;32mFalse\u001b[0m  \u001b[1;31m# pylint: disable=protected-access\u001b[0m\u001b[1;33m\u001b[0m\u001b[1;33m\u001b[0m\u001b[0m\n\u001b[0;32m    529\u001b[0m     \u001b[1;32mtry\u001b[0m\u001b[1;33m:\u001b[0m\u001b[1;33m\u001b[0m\u001b[1;33m\u001b[0m\u001b[0m\n\u001b[1;32m--> 530\u001b[1;33m       \u001b[0mresult\u001b[0m \u001b[1;33m=\u001b[0m \u001b[0mmethod\u001b[0m\u001b[1;33m(\u001b[0m\u001b[0mself\u001b[0m\u001b[1;33m,\u001b[0m \u001b[1;33m*\u001b[0m\u001b[0margs\u001b[0m\u001b[1;33m,\u001b[0m \u001b[1;33m**\u001b[0m\u001b[0mkwargs\u001b[0m\u001b[1;33m)\u001b[0m\u001b[1;33m\u001b[0m\u001b[1;33m\u001b[0m\u001b[0m\n\u001b[0m\u001b[0;32m    531\u001b[0m     \u001b[1;32mfinally\u001b[0m\u001b[1;33m:\u001b[0m\u001b[1;33m\u001b[0m\u001b[1;33m\u001b[0m\u001b[0m\n\u001b[0;32m    532\u001b[0m       \u001b[0mself\u001b[0m\u001b[1;33m.\u001b[0m\u001b[0m_self_setattr_tracking\u001b[0m \u001b[1;33m=\u001b[0m \u001b[0mprevious_value\u001b[0m  \u001b[1;31m# pylint: disable=protected-access\u001b[0m\u001b[1;33m\u001b[0m\u001b[1;33m\u001b[0m\u001b[0m\n",
      "\u001b[1;32m~\\AppData\\Local\\Programs\\Python\\Python38\\lib\\site-packages\\keras\\engine\\functional.py\u001b[0m in \u001b[0;36m__init__\u001b[1;34m(self, inputs, outputs, name, trainable, **kwargs)\u001b[0m\n\u001b[0;32m    107\u001b[0m     \u001b[0mgeneric_utils\u001b[0m\u001b[1;33m.\u001b[0m\u001b[0mvalidate_kwargs\u001b[0m\u001b[1;33m(\u001b[0m\u001b[0mkwargs\u001b[0m\u001b[1;33m,\u001b[0m \u001b[1;33m{\u001b[0m\u001b[1;33m}\u001b[0m\u001b[1;33m)\u001b[0m\u001b[1;33m\u001b[0m\u001b[1;33m\u001b[0m\u001b[0m\n\u001b[0;32m    108\u001b[0m     \u001b[0msuper\u001b[0m\u001b[1;33m(\u001b[0m\u001b[0mFunctional\u001b[0m\u001b[1;33m,\u001b[0m \u001b[0mself\u001b[0m\u001b[1;33m)\u001b[0m\u001b[1;33m.\u001b[0m\u001b[0m__init__\u001b[0m\u001b[1;33m(\u001b[0m\u001b[0mname\u001b[0m\u001b[1;33m=\u001b[0m\u001b[0mname\u001b[0m\u001b[1;33m,\u001b[0m \u001b[0mtrainable\u001b[0m\u001b[1;33m=\u001b[0m\u001b[0mtrainable\u001b[0m\u001b[1;33m)\u001b[0m\u001b[1;33m\u001b[0m\u001b[1;33m\u001b[0m\u001b[0m\n\u001b[1;32m--> 109\u001b[1;33m     \u001b[0mself\u001b[0m\u001b[1;33m.\u001b[0m\u001b[0m_init_graph_network\u001b[0m\u001b[1;33m(\u001b[0m\u001b[0minputs\u001b[0m\u001b[1;33m,\u001b[0m \u001b[0moutputs\u001b[0m\u001b[1;33m)\u001b[0m\u001b[1;33m\u001b[0m\u001b[1;33m\u001b[0m\u001b[0m\n\u001b[0m\u001b[0;32m    110\u001b[0m \u001b[1;33m\u001b[0m\u001b[0m\n\u001b[0;32m    111\u001b[0m   \u001b[1;33m@\u001b[0m\u001b[0mtf\u001b[0m\u001b[1;33m.\u001b[0m\u001b[0m__internal__\u001b[0m\u001b[1;33m.\u001b[0m\u001b[0mtracking\u001b[0m\u001b[1;33m.\u001b[0m\u001b[0mno_automatic_dependency_tracking\u001b[0m\u001b[1;33m\u001b[0m\u001b[1;33m\u001b[0m\u001b[0m\n",
      "\u001b[1;32m~\\AppData\\Local\\Programs\\Python\\Python38\\lib\\site-packages\\tensorflow\\python\\training\\tracking\\base.py\u001b[0m in \u001b[0;36m_method_wrapper\u001b[1;34m(self, *args, **kwargs)\u001b[0m\n\u001b[0;32m    528\u001b[0m     \u001b[0mself\u001b[0m\u001b[1;33m.\u001b[0m\u001b[0m_self_setattr_tracking\u001b[0m \u001b[1;33m=\u001b[0m \u001b[1;32mFalse\u001b[0m  \u001b[1;31m# pylint: disable=protected-access\u001b[0m\u001b[1;33m\u001b[0m\u001b[1;33m\u001b[0m\u001b[0m\n\u001b[0;32m    529\u001b[0m     \u001b[1;32mtry\u001b[0m\u001b[1;33m:\u001b[0m\u001b[1;33m\u001b[0m\u001b[1;33m\u001b[0m\u001b[0m\n\u001b[1;32m--> 530\u001b[1;33m       \u001b[0mresult\u001b[0m \u001b[1;33m=\u001b[0m \u001b[0mmethod\u001b[0m\u001b[1;33m(\u001b[0m\u001b[0mself\u001b[0m\u001b[1;33m,\u001b[0m \u001b[1;33m*\u001b[0m\u001b[0margs\u001b[0m\u001b[1;33m,\u001b[0m \u001b[1;33m**\u001b[0m\u001b[0mkwargs\u001b[0m\u001b[1;33m)\u001b[0m\u001b[1;33m\u001b[0m\u001b[1;33m\u001b[0m\u001b[0m\n\u001b[0m\u001b[0;32m    531\u001b[0m     \u001b[1;32mfinally\u001b[0m\u001b[1;33m:\u001b[0m\u001b[1;33m\u001b[0m\u001b[1;33m\u001b[0m\u001b[0m\n\u001b[0;32m    532\u001b[0m       \u001b[0mself\u001b[0m\u001b[1;33m.\u001b[0m\u001b[0m_self_setattr_tracking\u001b[0m \u001b[1;33m=\u001b[0m \u001b[0mprevious_value\u001b[0m  \u001b[1;31m# pylint: disable=protected-access\u001b[0m\u001b[1;33m\u001b[0m\u001b[1;33m\u001b[0m\u001b[0m\n",
      "\u001b[1;32m~\\AppData\\Local\\Programs\\Python\\Python38\\lib\\site-packages\\keras\\engine\\functional.py\u001b[0m in \u001b[0;36m_init_graph_network\u001b[1;34m(self, inputs, outputs)\u001b[0m\n\u001b[0;32m    144\u001b[0m         \u001b[0mbase_layer_utils\u001b[0m\u001b[1;33m.\u001b[0m\u001b[0mcreate_keras_history\u001b[0m\u001b[1;33m(\u001b[0m\u001b[0mself\u001b[0m\u001b[1;33m.\u001b[0m\u001b[0m_nested_outputs\u001b[0m\u001b[1;33m)\u001b[0m\u001b[1;33m\u001b[0m\u001b[1;33m\u001b[0m\u001b[0m\n\u001b[0;32m    145\u001b[0m \u001b[1;33m\u001b[0m\u001b[0m\n\u001b[1;32m--> 146\u001b[1;33m     \u001b[0mself\u001b[0m\u001b[1;33m.\u001b[0m\u001b[0m_validate_graph_inputs_and_outputs\u001b[0m\u001b[1;33m(\u001b[0m\u001b[1;33m)\u001b[0m\u001b[1;33m\u001b[0m\u001b[1;33m\u001b[0m\u001b[0m\n\u001b[0m\u001b[0;32m    147\u001b[0m \u001b[1;33m\u001b[0m\u001b[0m\n\u001b[0;32m    148\u001b[0m     \u001b[1;31m# A Network does not create weights of its own, thus it is already\u001b[0m\u001b[1;33m\u001b[0m\u001b[1;33m\u001b[0m\u001b[1;33m\u001b[0m\u001b[0m\n",
      "\u001b[1;32m~\\AppData\\Local\\Programs\\Python\\Python38\\lib\\site-packages\\keras\\engine\\functional.py\u001b[0m in \u001b[0;36m_validate_graph_inputs_and_outputs\u001b[1;34m(self)\u001b[0m\n\u001b[0;32m    719\u001b[0m       \u001b[1;32mif\u001b[0m \u001b[1;32mnot\u001b[0m \u001b[0mhasattr\u001b[0m\u001b[1;33m(\u001b[0m\u001b[0mx\u001b[0m\u001b[1;33m,\u001b[0m \u001b[1;34m'_keras_history'\u001b[0m\u001b[1;33m)\u001b[0m\u001b[1;33m:\u001b[0m\u001b[1;33m\u001b[0m\u001b[1;33m\u001b[0m\u001b[0m\n\u001b[0;32m    720\u001b[0m         \u001b[0mcls_name\u001b[0m \u001b[1;33m=\u001b[0m \u001b[0mself\u001b[0m\u001b[1;33m.\u001b[0m\u001b[0m__class__\u001b[0m\u001b[1;33m.\u001b[0m\u001b[0m__name__\u001b[0m\u001b[1;33m\u001b[0m\u001b[1;33m\u001b[0m\u001b[0m\n\u001b[1;32m--> 721\u001b[1;33m         raise ValueError('Output tensors of a ' + cls_name + ' model must be '\n\u001b[0m\u001b[0;32m    722\u001b[0m                          \u001b[1;34m'the output of a TensorFlow `Layer` '\u001b[0m\u001b[1;33m\u001b[0m\u001b[1;33m\u001b[0m\u001b[0m\n\u001b[0;32m    723\u001b[0m                          '(thus holding past layer metadata). Found: ' + str(x))\n",
      "\u001b[1;31mValueError\u001b[0m: Output tensors of a Functional model must be the output of a TensorFlow `Layer` (thus holding past layer metadata). Found: <tensorflow_addons.layers.crf.CRF object at 0x00000191E30F4B80>"
     ]
    }
   ],
   "source": [
    "tf.random.set_seed(10)\n",
    "model = Model(inputs=[char_inputs, word_inputs], outputs=outputs)"
   ]
  },
  {
   "cell_type": "code",
   "execution_count": 90,
   "metadata": {},
   "outputs": [
    {
     "name": "stdout",
     "output_type": "stream",
     "text": [
      "Model: \"model_6\"\n",
      "__________________________________________________________________________________________________\n",
      "Layer (type)                    Output Shape         Param #     Connected to                     \n",
      "==================================================================================================\n",
      "input_15 (InputLayer)           [(None, 38, 11)]     0                                            \n",
      "__________________________________________________________________________________________________\n",
      "lambda_14 (Lambda)              (38, 11)             0           input_15[0][0]                   \n",
      "__________________________________________________________________________________________________\n",
      "embedding_14 (Embedding)        (38, 11, 35)         3500        lambda_14[0][0]                  \n",
      "__________________________________________________________________________________________________\n",
      "permute_7 (Permute)             (38, 35, 11)         0           embedding_14[0][0]               \n",
      "__________________________________________________________________________________________________\n",
      "dropout_17 (Dropout)            (38, 35, 11)         0           permute_7[0][0]                  \n",
      "__________________________________________________________________________________________________\n",
      "reshape_14 (Reshape)            (38, 35, 11, 1)      0           dropout_17[0][0]                 \n",
      "__________________________________________________________________________________________________\n",
      "conv2d_7 (Conv2D)               (38, 35, 11, 30)     120         reshape_14[0][0]                 \n",
      "__________________________________________________________________________________________________\n",
      "max_pooling2d_7 (MaxPooling2D)  (38, 35, 1, 30)      0           conv2d_7[0][0]                   \n",
      "__________________________________________________________________________________________________\n",
      "dense_11 (Dense)                (38, 35, 1, 1)       31          max_pooling2d_7[0][0]            \n",
      "__________________________________________________________________________________________________\n",
      "input_16 (InputLayer)           [(None, 38)]         0                                            \n",
      "__________________________________________________________________________________________________\n",
      "reshape_15 (Reshape)            (38, 35)             0           dense_11[0][0]                   \n",
      "__________________________________________________________________________________________________\n",
      "embedding_15 (Embedding)        (None, 38, 100)      3181900     input_16[0][0]                   \n",
      "__________________________________________________________________________________________________\n",
      "lambda_15 (Lambda)              (1, 38, 35)          0           reshape_15[0][0]                 \n",
      "__________________________________________________________________________________________________\n",
      "concatenate_7 (Concatenate)     (1, 38, 135)         0           embedding_15[0][0]               \n",
      "                                                                 lambda_15[0][0]                  \n",
      "__________________________________________________________________________________________________\n",
      "dropout_18 (Dropout)            (1, 38, 135)         0           concatenate_7[0][0]              \n",
      "__________________________________________________________________________________________________\n",
      "bidirectional_5 (Bidirectional) (1, 38, 76)          52896       dropout_18[0][0]                 \n",
      "__________________________________________________________________________________________________\n",
      "dropout_19 (Dropout)            (1, 38, 76)          0           bidirectional_5[0][0]            \n",
      "__________________________________________________________________________________________________\n",
      "crf_4 (CRF)                     [(1, 38), (1, 38, 10 890         dropout_19[0][0]                 \n",
      "==================================================================================================\n",
      "Total params: 3,239,337\n",
      "Trainable params: 57,437\n",
      "Non-trainable params: 3,181,900\n",
      "__________________________________________________________________________________________________\n"
     ]
    }
   ],
   "source": [
    "model.summary()"
   ]
  },
  {
   "cell_type": "code",
   "execution_count": 95,
   "metadata": {},
   "outputs": [
    {
     "name": "stdout",
     "output_type": "stream",
     "text": [
      "Char Inputs Shape: (None, 38, 11)\n",
      "Word Inputs Shape: (None, 38)\n"
     ]
    }
   ],
   "source": [
    "np.random.seed(20)\n",
    "char_inputs_1 = np.random.randint(10, size=(1, 38, 11))\n",
    "word_inputs_1 = np.random.randint(10, size=(1, 38))\n",
    "\n",
    "print(f\"Char Inputs Shape: {char_inputs.shape}\\nWord Inputs Shape: {word_inputs.shape}\")\n",
    "\n"
   ]
  },
  {
   "cell_type": "code",
   "execution_count": 96,
   "metadata": {},
   "outputs": [],
   "source": [
    "output = model.predict([char_inputs_1, word_inputs_1], batch_size=1)\n",
    "decoded_sequence, potentials, sequence_length, chain_kernel = output\n",
    "# output"
   ]
  },
  {
   "cell_type": "code",
   "execution_count": 98,
   "metadata": {},
   "outputs": [
    {
     "data": {
      "text/plain": [
       "array([[4, 1, 0, 4, 1, 0, 4, 1, 0, 4, 1, 0, 4, 1, 0, 4, 1, 0, 4, 1, 0, 4,\n",
       "        1, 0, 4, 1, 0, 4, 1, 0, 4, 1, 0, 4, 1, 0, 4, 1]])"
      ]
     },
     "execution_count": 98,
     "metadata": {},
     "output_type": "execute_result"
    }
   ],
   "source": [
    "decoded_sequence"
   ]
  },
  {
   "cell_type": "code",
   "execution_count": 102,
   "metadata": {},
   "outputs": [
    {
     "data": {
      "text/plain": [
       "array([[-4.13254648e-03,  1.56051228e-02,  1.47529459e-03,\n",
       "        -1.98264443e-03,  4.05802950e-03, -8.31034966e-03,\n",
       "         4.08913195e-03, -1.60525683e-02,  3.70770581e-02,\n",
       "        -1.57627817e-02],\n",
       "       [-1.01015614e-02,  1.43933576e-02, -2.15266831e-02,\n",
       "        -5.21783158e-03, -4.48690867e-03, -5.83555736e-03,\n",
       "         4.67876066e-03, -2.46713739e-02,  3.48278917e-02,\n",
       "        -1.01780733e-02],\n",
       "       [-1.01672672e-02,  1.25004463e-02, -1.07990652e-02,\n",
       "        -6.81667961e-03, -1.62237901e-02, -1.48986606e-03,\n",
       "         8.20131227e-03, -9.60624032e-03,  3.31064127e-02,\n",
       "        -5.07684425e-03],\n",
       "       [-1.17859738e-02,  1.21558900e-03, -2.86756791e-02,\n",
       "         9.41767730e-03, -2.03414410e-02,  3.86663293e-03,\n",
       "         1.16281956e-02,  1.59261201e-03,  2.75851134e-02,\n",
       "        -1.68585069e-02],\n",
       "       [-7.18025118e-03,  2.06005294e-03, -1.97215807e-02,\n",
       "         2.33466476e-02, -2.26880163e-02, -7.36888824e-03,\n",
       "         1.46512054e-02, -2.03969493e-03,  3.50169353e-02,\n",
       "        -1.77562647e-02],\n",
       "       [-1.26499077e-02, -1.49127981e-03, -1.51420282e-02,\n",
       "         2.38494929e-02, -3.55093107e-02,  5.59718872e-04,\n",
       "         9.18795727e-03,  2.71622697e-03,  1.88366398e-02,\n",
       "        -2.36006211e-02],\n",
       "       [-1.99539345e-02,  9.99989337e-04, -1.05934348e-02,\n",
       "         1.35617992e-02, -2.15448234e-02, -1.06614241e-02,\n",
       "         3.28078959e-03, -1.22014135e-02,  1.76780727e-02,\n",
       "        -1.40280761e-02],\n",
       "       [-2.07373053e-02, -6.02731621e-03, -9.08478908e-03,\n",
       "         1.85704660e-02, -1.94790605e-02, -2.02495302e-03,\n",
       "        -1.18007008e-02, -6.36134855e-03,  1.83153269e-03,\n",
       "        -2.31986232e-02],\n",
       "       [-1.89700685e-02, -2.26865197e-03, -1.22369938e-02,\n",
       "         2.13559251e-03, -6.56649796e-03, -6.22205017e-03,\n",
       "        -7.51578622e-03, -2.49980539e-02,  1.46456761e-02,\n",
       "        -9.13092494e-03],\n",
       "       [-2.17070393e-02, -3.97736812e-03,  6.22284366e-03,\n",
       "         5.25097316e-03, -2.16442607e-02, -3.60268354e-03,\n",
       "        -1.22054387e-02, -1.19236112e-03,  8.02726112e-03,\n",
       "        -9.50056873e-03],\n",
       "       [-2.75920965e-02, -6.78699184e-03,  1.78448204e-02,\n",
       "        -1.23427890e-03, -8.69123451e-03, -1.49281844e-02,\n",
       "        -7.60682393e-03, -1.67206898e-02,  2.65796427e-02,\n",
       "        -4.23916150e-03],\n",
       "       [-3.89338806e-02, -1.02506932e-02,  1.85502861e-02,\n",
       "        -1.35164587e-02, -4.61424794e-03, -1.65912081e-02,\n",
       "         3.80623457e-03, -1.30400751e-02,  3.58100422e-02,\n",
       "        -2.85306969e-03],\n",
       "       [-2.63027065e-02, -3.94087983e-03,  2.60819625e-02,\n",
       "        -1.84170585e-02,  7.55092129e-03, -1.02184787e-02,\n",
       "         1.92604901e-03, -6.32968440e-04,  3.55217457e-02,\n",
       "         1.65862276e-03],\n",
       "       [-1.72002781e-02,  2.23011756e-03,  2.39173677e-02,\n",
       "         1.50113599e-03,  3.51017038e-03, -1.95729695e-02,\n",
       "         7.34739378e-03, -4.87161847e-03,  4.35232520e-02,\n",
       "         6.53821044e-03],\n",
       "       [-2.37207934e-02,  5.61745837e-03,  2.37250328e-02,\n",
       "        -8.01840704e-03,  2.18144665e-03, -1.93026997e-02,\n",
       "         3.79071408e-03, -1.31797194e-02,  3.39717716e-02,\n",
       "         1.30012166e-02],\n",
       "       [-2.64589768e-02,  4.15638834e-03,  2.73457393e-02,\n",
       "        -7.95712508e-03,  3.03381775e-03, -1.55760832e-02,\n",
       "        -1.94342644e-03, -2.76757148e-03,  2.07457617e-02,\n",
       "         4.88753896e-03],\n",
       "       [-1.54045112e-02,  1.32736126e-02,  2.74460241e-02,\n",
       "         6.27824757e-03, -1.32709015e-02, -2.22522635e-02,\n",
       "         3.98433418e-04, -8.00598040e-03,  2.15824004e-02,\n",
       "        -1.45506137e-03],\n",
       "       [-1.63896456e-02,  2.82762665e-03,  2.21906714e-02,\n",
       "         1.68030765e-02, -2.96565257e-02, -2.25884952e-02,\n",
       "        -4.65849275e-03,  5.07756013e-05,  1.51716834e-02,\n",
       "        -9.80555918e-03],\n",
       "       [-1.17290048e-02,  2.60622241e-03,  2.73746531e-02,\n",
       "         1.40413065e-02, -8.43083952e-03, -3.04308832e-02,\n",
       "        -3.06079560e-03, -2.05558091e-02,  3.29402909e-02,\n",
       "         1.04172016e-03],\n",
       "       [-1.27491234e-02,  1.50947901e-03,  2.61035841e-02,\n",
       "         1.55628128e-02, -4.87066619e-03, -3.50448154e-02,\n",
       "         5.85383829e-03, -1.35640902e-02,  5.07128052e-02,\n",
       "         4.36915131e-03],\n",
       "       [-1.54887773e-02,  6.18216954e-03,  2.69696862e-02,\n",
       "         6.36666175e-03, -2.01214831e-02, -3.42498422e-02,\n",
       "         3.72004253e-03, -1.48282610e-02,  4.72787283e-02,\n",
       "         1.72059052e-03],\n",
       "       [-1.94309186e-02,  2.01551034e-03,  2.28298847e-02,\n",
       "         1.02651296e-02, -2.47325804e-02, -3.58326808e-02,\n",
       "        -1.24091480e-03, -2.43424345e-02,  3.76413055e-02,\n",
       "         6.78265980e-03],\n",
       "       [-1.65013038e-02,  2.87509087e-04,  2.13605203e-02,\n",
       "         2.03480273e-02, -2.13127341e-02, -3.28582451e-02,\n",
       "        -1.09485292e-03, -2.00711526e-02,  3.14700864e-02,\n",
       "         8.45088251e-03],\n",
       "       [-2.07056068e-02,  4.44553187e-03,  2.14624275e-02,\n",
       "         1.67482086e-02, -2.58322917e-02, -3.21032070e-02,\n",
       "        -3.51792062e-03, -2.67069750e-02,  1.44418553e-02,\n",
       "         1.26579879e-02],\n",
       "       [-2.01475341e-02, -4.62163356e-04,  2.14466397e-02,\n",
       "         1.95316169e-02, -2.46714670e-02, -1.91146433e-02,\n",
       "        -9.23089217e-03, -1.88836437e-02, -1.69591862e-03,\n",
       "        -4.35605616e-05],\n",
       "       [-1.84319075e-02, -5.09808306e-03,  2.04624180e-02,\n",
       "         1.71778016e-02, -1.48170944e-02, -2.85019260e-02,\n",
       "        -6.34024013e-03, -3.64660472e-02,  7.67437229e-03,\n",
       "         1.24136116e-02],\n",
       "       [-2.65337657e-02, -2.40872125e-03,  2.92692818e-02,\n",
       "         9.82894190e-03, -1.17041739e-02, -3.52826044e-02,\n",
       "         3.35660600e-03, -3.79917324e-02,  1.43009080e-02,\n",
       "         5.13821701e-03],\n",
       "       [-1.67012308e-02,  8.82338849e-04,  2.98160110e-02,\n",
       "         2.17567217e-02, -6.59436267e-03, -2.52125077e-02,\n",
       "        -6.82056183e-04, -3.08039337e-02,  2.18328722e-02,\n",
       "         1.42186303e-02],\n",
       "       [-1.90837737e-02, -7.48670567e-03,  2.46630032e-02,\n",
       "         1.90123226e-02, -1.43933416e-04, -2.51798555e-02,\n",
       "         1.83414016e-03, -1.84027143e-02,  3.46995443e-02,\n",
       "         1.59048233e-02],\n",
       "       [-1.23032806e-02, -8.80023092e-03,  2.37187259e-02,\n",
       "         1.98630840e-02, -6.52426900e-03, -2.49874331e-02,\n",
       "         1.18705817e-02, -1.41946105e-02,  2.71703042e-02,\n",
       "         2.34333277e-02],\n",
       "       [-9.53493547e-03, -3.62065830e-03,  2.42869835e-02,\n",
       "         7.21249636e-03, -1.25166168e-02, -2.19138395e-02,\n",
       "         2.44171917e-02, -2.06465516e-02,  1.63940284e-02,\n",
       "         2.10066028e-02],\n",
       "       [ 9.07029584e-03,  9.24267806e-03,  3.66307460e-02,\n",
       "        -5.22445072e-04, -5.58295101e-03, -1.86719205e-02,\n",
       "         1.12172309e-02, -1.74979009e-02,  1.31297186e-02,\n",
       "         2.36490406e-02],\n",
       "       [ 8.68073758e-03,  3.36499419e-03,  2.91964784e-02,\n",
       "         1.30357761e-02, -1.21212611e-02, -2.57253237e-02,\n",
       "         1.06647490e-02, -3.02716624e-02,  9.65038780e-03,\n",
       "         1.96579210e-02],\n",
       "       [-3.77227028e-04,  8.10432422e-04,  3.04062068e-02,\n",
       "         1.50120836e-02, -6.49769977e-03, -2.90572233e-02,\n",
       "         4.53133509e-03, -3.37667875e-02,  2.37357412e-02,\n",
       "         1.30642941e-02],\n",
       "       [-1.10317618e-02,  2.18355237e-03,  2.50407383e-02,\n",
       "         4.12437553e-03,  2.25819252e-03, -2.85231210e-02,\n",
       "        -3.15073994e-03, -3.09369192e-02,  2.31272969e-02,\n",
       "         1.30830528e-02],\n",
       "       [-1.43254315e-02,  1.27534498e-03,  2.09473409e-02,\n",
       "         1.20916199e-02,  8.88131186e-03, -2.21224595e-02,\n",
       "        -1.45114167e-02, -3.17928419e-02,  1.32809207e-02,\n",
       "         1.04222074e-02],\n",
       "       [-1.34800123e-02,  5.68776391e-03,  1.22946780e-02,\n",
       "         2.68057408e-03,  5.64734731e-03, -1.96586736e-02,\n",
       "        -1.11555764e-02, -2.33424194e-02,  1.73195954e-02,\n",
       "         3.25599965e-03],\n",
       "       [-1.03547480e-02,  5.38651925e-03, -6.07877458e-03,\n",
       "        -4.73056361e-03,  1.25706382e-03, -1.47873266e-02,\n",
       "        -5.76205738e-03, -3.02739143e-02,  1.10103823e-02,\n",
       "         5.76812681e-03]], dtype=float32)"
      ]
     },
     "execution_count": 102,
     "metadata": {},
     "output_type": "execute_result"
    }
   ],
   "source": [
    "potentials[0]"
   ]
  },
  {
   "cell_type": "code",
   "execution_count": null,
   "metadata": {},
   "outputs": [],
   "source": []
  },
  {
   "cell_type": "code",
   "execution_count": null,
   "metadata": {},
   "outputs": [],
   "source": []
  },
  {
   "cell_type": "code",
   "execution_count": null,
   "metadata": {},
   "outputs": [],
   "source": []
  },
  {
   "cell_type": "code",
   "execution_count": null,
   "metadata": {},
   "outputs": [],
   "source": []
  },
  {
   "cell_type": "code",
   "execution_count": null,
   "metadata": {},
   "outputs": [],
   "source": []
  }
 ],
 "metadata": {
  "interpreter": {
   "hash": "db3ca9ec755843094bfe658d337cf97d381b019c52f517307d44cf002f9583d1"
  },
  "kernelspec": {
   "display_name": "Python 3.8.3 64-bit",
   "name": "python3"
  },
  "language_info": {
   "codemirror_mode": {
    "name": "ipython",
    "version": 3
   },
   "file_extension": ".py",
   "mimetype": "text/x-python",
   "name": "python",
   "nbconvert_exporter": "python",
   "pygments_lexer": "ipython3",
   "version": "3.8.3"
  }
 },
 "nbformat": 4,
 "nbformat_minor": 4
}
