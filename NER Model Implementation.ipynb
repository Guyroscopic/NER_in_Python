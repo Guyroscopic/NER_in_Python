{
 "cells": [
  {
   "cell_type": "code",
   "execution_count": 1,
   "metadata": {},
   "outputs": [],
   "source": [
    "import pickle\n",
    "import pandas as pd\n",
    "import numpy as np\n",
    "\n",
    "from ner_utils.Sentence import Sentence\n",
    "from ner_utils.Data     import Data\n",
    "\n",
    "import tensorflow as tf\n",
    "from tensorflow.keras.models import Model, Sequential\n",
    "from tensorflow.keras.layers import Input, Conv2D, MaxPooling2D, Dropout, Dense, LSTM, Embedding, Concatenate, Reshape, Permute, Lambda, Bidirectional"
   ]
  },
  {
   "cell_type": "markdown",
   "metadata": {},
   "source": [
    "### Character Tokenization"
   ]
  },
  {
   "cell_type": "code",
   "execution_count": 2,
   "metadata": {},
   "outputs": [],
   "source": [
    "data = Data('data/ner_datasetreference.csv', encoding='latin1')\n",
    "sentence = Sentence(data.dataset)"
   ]
  },
  {
   "cell_type": "code",
   "execution_count": 3,
   "metadata": {},
   "outputs": [],
   "source": [
    "word_list, sentence_list = sentence.get_words_and_sentences()\n",
    "word_sequences, sentence_sequences = data.get_tokenized_sequences(word_list, sentence_list)"
   ]
  },
  {
   "cell_type": "code",
   "execution_count": 4,
   "metadata": {},
   "outputs": [],
   "source": [
    "char_to_idx, word_to_idx, idx_to_char, idx_to_word = data._get_tokens(word_list, sentence_list)"
   ]
  },
  {
   "cell_type": "markdown",
   "metadata": {},
   "source": [
    "### Char Embeddings"
   ]
  },
  {
   "cell_type": "code",
   "execution_count": 5,
   "metadata": {},
   "outputs": [],
   "source": [
    "# getting char voacb\n",
    "# with open('unique_chars.pkl', 'wb') as f:\n",
    "#     pickle.dump(sentence.get_unique_chars(), f)\n",
    "\n",
    "# loading char vocab   \n",
    "with open('unique_chars.pkl', 'rb') as f:\n",
    "    chars = pickle.load(f)"
   ]
  },
  {
   "cell_type": "code",
   "execution_count": 6,
   "metadata": {},
   "outputs": [
    {
     "data": {
      "text/plain": [
       "(4.773359082564433, 2.8246976648249014)"
      ]
     },
     "execution_count": 6,
     "metadata": {},
     "output_type": "execute_result"
    }
   ],
   "source": [
    "# Word info to pass to the model\n",
    "max_word_len, min_word_len, avg_word_len, std_word_len = sentence.get_word_info()\n",
    "avg_word_len, std_word_len"
   ]
  },
  {
   "cell_type": "code",
   "execution_count": 7,
   "metadata": {},
   "outputs": [
    {
     "data": {
      "text/plain": [
       "(104, 1, 21.863987989741236, 7.963596820721575)"
      ]
     },
     "execution_count": 7,
     "metadata": {},
     "output_type": "execute_result"
    }
   ],
   "source": [
    "# Sentence info to pass to the model\n",
    "max_sentence_len, min_sentence_len, avg_sentence_len, std_sentence_len = sentence.get_sentence_info()\n",
    "max_sentence_len, min_sentence_len, avg_sentence_len, std_sentence_len"
   ]
  },
  {
   "cell_type": "code",
   "execution_count": 8,
   "metadata": {},
   "outputs": [
    {
     "data": {
      "text/plain": [
       "(11, 38, 31819)"
      ]
     },
     "execution_count": 8,
     "metadata": {},
     "output_type": "execute_result"
    }
   ],
   "source": [
    "#Word Level Hyper Parameters\n",
    "model_word_len     = int(np.ceil(avg_word_len + 2*std_word_len))\n",
    "char_embedding_dim = 35\n",
    "char_vocab_size    = len(char_to_idx) + 1 #add 1 for padding token\n",
    "window_size        = 3\n",
    "conv_filters       = 30 \n",
    "dropout_rate       = 0.5\n",
    "\n",
    "#Sentence Level Hyper Parameters\n",
    "model_sentence_len = int(np.ceil(avg_sentence_len + 2*std_sentence_len))\n",
    "word_embedding_dim = 100\n",
    "word_vocab_size    = len(word_to_idx) + 1 #add 1 for padding token\n",
    "\n",
    "\n",
    "model_word_len, model_sentence_len, word_vocab_size"
   ]
  },
  {
   "cell_type": "code",
   "execution_count": 9,
   "metadata": {},
   "outputs": [],
   "source": [
    "def get_char_embedding_matrix(embedding_filename, vocab_size, embedding_dim, char_to_idx):\n",
    "    \n",
    "    with open(embedding_filename, 'rb') as f:\n",
    "        char_embeddings = pickle.load(f)\n",
    "    \n",
    "    embedding_matrix = np.zeros((vocab_size, embedding_dim))\n",
    "    for char, embedding in char_embeddings.items():\n",
    "        embedding_matrix[char_to_idx[char]] = embedding\n",
    "        \n",
    "    return embedding_matrix  "
   ]
  },
  {
   "cell_type": "code",
   "execution_count": 10,
   "metadata": {
    "scrolled": true
   },
   "outputs": [],
   "source": [
    "char_embedding_matrix = get_char_embedding_matrix('char_embeddings_with_features.pkl', char_vocab_size, char_embedding_dim, char_to_idx)\n"
   ]
  },
  {
   "cell_type": "code",
   "execution_count": 12,
   "metadata": {},
   "outputs": [],
   "source": [
    "#word_embedding_martrix = get_char_embedding_matrix()"
   ]
  },
  {
   "cell_type": "markdown",
   "metadata": {},
   "source": [
    "### Defining the Model"
   ]
  },
  {
   "cell_type": "code",
   "execution_count": 12,
   "metadata": {},
   "outputs": [],
   "source": [
    "#Word Part of Model\n",
    "char_inputs = Input(shape=(model_sentence_len, model_word_len))\n",
    "x           = Lambda(lambda x: tf.reshape(x, (model_sentence_len, model_word_len)))(char_inputs)\n",
    "x           = Embedding(char_vocab_size,\n",
    "                            char_embedding_dim,\n",
    "                            weights=[char_embedding_matrix],\n",
    "                            input_length=max_word_len,\n",
    "                            trainable=True)(x)\n",
    "x           = Permute((2, 1), input_shape=(11, 35))(x)\n",
    "x           = Dropout(dropout_rate)(x)\n",
    "x           = Reshape((35, 11, 1))(x)\n",
    "x           = Conv2D(conv_filters, input_shape=(38, 35, 11, 1), kernel_size=(1, window_size), padding='same')(x)\n",
    "x           = MaxPooling2D(pool_size=(1, model_word_len))(x)\n",
    "x           = Dense(1, input_shape=(35, 1, 30))(x)\n",
    "x           = Reshape((35, ))(x)\n",
    "\n",
    "\n",
    "#Sentence Part of Model\n",
    "word_inputs = Input(shape=(model_sentence_len, ))\n",
    "y           = Embedding(word_vocab_size,\n",
    "                            word_embedding_dim,\n",
    "                            #weights=[word_embedding_matrix],\n",
    "                            input_length=max_sentence_len,\n",
    "                            trainable=False)(word_inputs)\n",
    "\n",
    "\n",
    "#Joining the two parts\n",
    "x = Lambda(lambda x: tf.expand_dims(x, axis=0))(x)\n",
    "z = Concatenate(axis=2)([y, x])\n",
    "z = Dropout(dropout_rate)(z)\n",
    "z = Bidirectional(LSTM())\n",
    "\n",
    "outputs = z\n",
    "\n",
    "# outputs = x\n"
   ]
  },
  {
   "cell_type": "code",
   "execution_count": 13,
   "metadata": {},
   "outputs": [],
   "source": [
    "tf.random.set_seed(10)\n",
    "model = Model(inputs=[char_inputs, word_inputs], outputs=outputs)"
   ]
  },
  {
   "cell_type": "code",
   "execution_count": 14,
   "metadata": {},
   "outputs": [
    {
     "name": "stdout",
     "output_type": "stream",
     "text": [
      "Model: \"model\"\n",
      "__________________________________________________________________________________________________\n",
      "Layer (type)                    Output Shape         Param #     Connected to                     \n",
      "==================================================================================================\n",
      "input_3 (InputLayer)            [(None, 38, 11)]     0                                            \n",
      "__________________________________________________________________________________________________\n",
      "lambda_2 (Lambda)               (38, 11)             0           input_3[0][0]                    \n",
      "__________________________________________________________________________________________________\n",
      "embedding_2 (Embedding)         (38, 11, 35)         3500        lambda_2[0][0]                   \n",
      "__________________________________________________________________________________________________\n",
      "permute_1 (Permute)             (38, 35, 11)         0           embedding_2[0][0]                \n",
      "__________________________________________________________________________________________________\n",
      "dropout_1 (Dropout)             (38, 35, 11)         0           permute_1[0][0]                  \n",
      "__________________________________________________________________________________________________\n",
      "reshape_2 (Reshape)             (38, 35, 11, 1)      0           dropout_1[0][0]                  \n",
      "__________________________________________________________________________________________________\n",
      "conv2d_1 (Conv2D)               (38, 35, 11, 30)     120         reshape_2[0][0]                  \n",
      "__________________________________________________________________________________________________\n",
      "max_pooling2d_1 (MaxPooling2D)  (38, 35, 1, 30)      0           conv2d_1[0][0]                   \n",
      "__________________________________________________________________________________________________\n",
      "dense_1 (Dense)                 (38, 35, 1, 1)       31          max_pooling2d_1[0][0]            \n",
      "__________________________________________________________________________________________________\n",
      "input_4 (InputLayer)            [(None, 38)]         0                                            \n",
      "__________________________________________________________________________________________________\n",
      "reshape_3 (Reshape)             (38, 35)             0           dense_1[0][0]                    \n",
      "__________________________________________________________________________________________________\n",
      "embedding_3 (Embedding)         (None, 38, 100)      3181900     input_4[0][0]                    \n",
      "__________________________________________________________________________________________________\n",
      "lambda_3 (Lambda)               (1, 38, 35)          0           reshape_3[0][0]                  \n",
      "__________________________________________________________________________________________________\n",
      "concatenate_1 (Concatenate)     (1, 38, 135)         0           embedding_3[0][0]                \n",
      "                                                                 lambda_3[0][0]                   \n",
      "==================================================================================================\n",
      "Total params: 3,185,551\n",
      "Trainable params: 3,651\n",
      "Non-trainable params: 3,181,900\n",
      "__________________________________________________________________________________________________\n"
     ]
    }
   ],
   "source": [
    "model.summary()"
   ]
  },
  {
   "cell_type": "code",
   "execution_count": 292,
   "metadata": {},
   "outputs": [
    {
     "name": "stdout",
     "output_type": "stream",
     "text": [
      "Char Inputs Shape: (1, 38, 11)\n",
      "Word Inputs Shape: (None, 38)\n"
     ]
    }
   ],
   "source": [
    "np.random.seed(10)\n",
    "char_inputs_1 = np.random.randint(10, size=(1, 38, 11))\n",
    "word_inputs_1 = np.random.randint(10, size=(1, 38))\n",
    "\n",
    "print(f\"Char Inputs Shape: {char_inputs.shape}\\nWord Inputs Shape: {word_inputs.shape}\")\n",
    "\n"
   ]
  },
  {
   "cell_type": "code",
   "execution_count": 300,
   "metadata": {},
   "outputs": [
    {
     "data": {
      "text/plain": [
       "(1, 38, 135)"
      ]
     },
     "execution_count": 300,
     "metadata": {},
     "output_type": "execute_result"
    }
   ],
   "source": [
    "output = model.predict([char_inputs_1, word_inputs_1], batch_size=1)\n",
    "output.shape"
   ]
  },
  {
   "cell_type": "code",
   "execution_count": null,
   "metadata": {},
   "outputs": [],
   "source": []
  },
  {
   "cell_type": "code",
   "execution_count": null,
   "metadata": {},
   "outputs": [],
   "source": []
  },
  {
   "cell_type": "code",
   "execution_count": null,
   "metadata": {},
   "outputs": [],
   "source": []
  },
  {
   "cell_type": "code",
   "execution_count": null,
   "metadata": {},
   "outputs": [],
   "source": []
  },
  {
   "cell_type": "code",
   "execution_count": null,
   "metadata": {},
   "outputs": [],
   "source": []
  },
  {
   "cell_type": "code",
   "execution_count": null,
   "metadata": {},
   "outputs": [],
   "source": []
  },
  {
   "cell_type": "code",
   "execution_count": null,
   "metadata": {},
   "outputs": [],
   "source": []
  }
 ],
 "metadata": {
  "interpreter": {
   "hash": "db3ca9ec755843094bfe658d337cf97d381b019c52f517307d44cf002f9583d1"
  },
  "kernelspec": {
   "display_name": "Python 3.8.3 64-bit",
   "name": "python3"
  },
  "language_info": {
   "codemirror_mode": {
    "name": "ipython",
    "version": 3
   },
   "file_extension": ".py",
   "mimetype": "text/x-python",
   "name": "python",
   "nbconvert_exporter": "python",
   "pygments_lexer": "ipython3",
   "version": "3.8.3"
  }
 },
 "nbformat": 4,
 "nbformat_minor": 4
}
