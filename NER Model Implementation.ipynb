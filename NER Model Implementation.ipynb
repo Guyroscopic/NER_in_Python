{
 "cells": [
  {
   "cell_type": "code",
   "execution_count": 1,
   "metadata": {},
   "outputs": [],
   "source": [
    "import pickle\n",
    "import pandas as pd\n",
    "import numpy as np\n",
    "\n",
    "from Sentence import Sentence\n",
    "from Data     import Data\n",
    "\n",
    "from tensorflow.keras.models import Model\n",
    "from tensorflow.keras.layers import Input, Conv2D, MaxPooling2D, Dropout, Dense, Flatten, Embedding, Reshape, Conv1D"
   ]
  },
  {
   "cell_type": "markdown",
   "metadata": {},
   "source": [
    "### Loading Dataset"
   ]
  },
  {
   "cell_type": "code",
   "execution_count": 2,
   "metadata": {},
   "outputs": [],
   "source": [
    "data = Data('../ner_dataset.csv', encoding='latin1')\n",
    "sentence = Sentence(data.dataset)"
   ]
  },
  {
   "cell_type": "code",
   "execution_count": 7,
   "metadata": {},
   "outputs": [],
   "source": [
    "# list of unique words and sentences in the dataset\n",
    "word_list, sentence_list = sentence.get_words_and_sentences()"
   ]
  },
  {
   "cell_type": "code",
   "execution_count": 8,
   "metadata": {},
   "outputs": [],
   "source": [
    "# character and word tokens\n",
    "char_to_idx, word_to_idx, idx_to_char, idx_to_word = data.get_tokens(word_list, sentence_list)"
   ]
  },
  {
   "cell_type": "markdown",
   "metadata": {},
   "source": [
    "### Char Embeddings"
   ]
  },
  {
   "cell_type": "code",
   "execution_count": 21,
   "metadata": {},
   "outputs": [],
   "source": [
    "# getting char voacb\n",
    "# with open('unique_chars.pkl', 'wb') as f:\n",
    "#     pickle.dump(sentence.get_unique_chars(), f)\n",
    "\n",
    "# loading char vocab   \n",
    "with open('unique_chars.pkl', 'rb') as f:\n",
    "    chars = pickle.load(f)"
   ]
  },
  {
   "cell_type": "code",
   "execution_count": 3,
   "metadata": {},
   "outputs": [
    {
     "data": {
      "text/plain": [
       "(4.773359082564433, 2.8246976648249014)"
      ]
     },
     "execution_count": 3,
     "metadata": {},
     "output_type": "execute_result"
    }
   ],
   "source": [
    "# Word info to pass to the model\n",
    "max_word_len, min_word_len, avg_word_len, std_word_len = sentence.get_word_info()\n",
    "avg_word_len, std_word_len"
   ]
  },
  {
   "cell_type": "code",
   "execution_count": 4,
   "metadata": {},
   "outputs": [
    {
     "data": {
      "text/plain": [
       "(104, 1, 21.863987989741236, 7.963596820721575)"
      ]
     },
     "execution_count": 4,
     "metadata": {},
     "output_type": "execute_result"
    }
   ],
   "source": [
    "# Sentence info to pass to the model\n",
    "max_sentence_len, min_sentence_len, avg_sentence_len, std_sentence_len = sentence.get_sentence_info()\n",
    "max_sentence_len, min_sentence_len, avg_sentence_len, std_sentence_len"
   ]
  },
  {
   "cell_type": "code",
   "execution_count": 9,
   "metadata": {},
   "outputs": [
    {
     "data": {
      "text/plain": [
       "(11, 38, 31819)"
      ]
     },
     "execution_count": 9,
     "metadata": {},
     "output_type": "execute_result"
    }
   ],
   "source": [
    "#Word Level Hyper Parameters\n",
    "model_word_len     = int(np.ceil(avg_word_len + 2*std_word_len))\n",
    "char_embedding_dim = 35\n",
    "char_vocab_size    = len(char_to_idx) + 1 #add 1 for padding token\n",
    "window_size        = 3\n",
    "conv_filters       = 30 \n",
    "dropout_rate       = 0.5\n",
    "\n",
    "#Sentence Level Hyper Parameters\n",
    "model_sentence_len = int(np.ceil(avg_sentence_len + 2*std_sentence_len))\n",
    "word_embedding_dim = 35\n",
    "word_vocab_size    = len(word_to_idx) + 1 #add 1 for padding token\n",
    "\n",
    "\n",
    "model_word_len, model_sentence_len, word_vocab_size"
   ]
  },
  {
   "cell_type": "code",
   "execution_count": 23,
   "metadata": {},
   "outputs": [],
   "source": [
    "def get_char_embedding_matrix(embedding_filename, vocab_size, embedding_dim, char_to_idx):\n",
    "    \n",
    "    with open(embedding_filename, 'rb') as f:\n",
    "        char_embeddings = pickle.load(f)\n",
    "    \n",
    "    embedding_matrix = np.zeros((vocab_size, embedding_dim))\n",
    "    for char, embedding in char_embeddings.items():\n",
    "        embedding_matrix[char_to_idx[char]] = embedding\n",
    "        \n",
    "    return embedding_matrix  "
   ]
  },
  {
   "cell_type": "code",
   "execution_count": 24,
   "metadata": {},
   "outputs": [],
   "source": [
    "char_embedding_matrix = get_char_embedding_matrix('char_embeddings_with_features.pkl', char_vocab_size, char_embedding_dim, char_to_idx)"
   ]
  },
  {
   "cell_type": "code",
   "execution_count": 25,
   "metadata": {
    "collapsed": true
   },
   "outputs": [
    {
     "ename": "NameError",
     "evalue": "name 'get_embedding_matrix' is not defined",
     "output_type": "error",
     "traceback": [
      "\u001b[1;31m---------------------------------------------------------------------------\u001b[0m",
      "\u001b[1;31mNameError\u001b[0m                                 Traceback (most recent call last)",
      "\u001b[1;32m<ipython-input-25-26313acc5a03>\u001b[0m in \u001b[0;36m<module>\u001b[1;34m\u001b[0m\n\u001b[1;32m----> 1\u001b[1;33m \u001b[0mword_embedding_martrix\u001b[0m \u001b[1;33m=\u001b[0m \u001b[0mget_embedding_matrix\u001b[0m\u001b[1;33m(\u001b[0m\u001b[1;33m)\u001b[0m\u001b[1;33m\u001b[0m\u001b[1;33m\u001b[0m\u001b[0m\n\u001b[0m",
      "\u001b[1;31mNameError\u001b[0m: name 'get_embedding_matrix' is not defined"
     ]
    }
   ],
   "source": [
    "word_embedding_martrix = get_embedding_matrix()"
   ]
  },
  {
   "cell_type": "code",
   "execution_count": 36,
   "metadata": {
    "scrolled": true
   },
   "outputs": [
    {
     "data": {
      "text/plain": [
       "(1, 38, 11)"
      ]
     },
     "execution_count": 36,
     "metadata": {},
     "output_type": "execute_result"
    }
   ],
   "source": [
    "input_sentence = [[0, 1, 2, 3, 4, 5, 6, 7, 8, 9, 10] ] * model_sentence_len\n",
    "input_sentence = np.expand_dims(input_sentence, axis=0)\n",
    "np.shape(input_sentence)"
   ]
  },
  {
   "cell_type": "markdown",
   "metadata": {},
   "source": [
    "### Tokenized Sentences and Word Sequences"
   ]
  },
  {
   "cell_type": "code",
   "execution_count": 10,
   "metadata": {},
   "outputs": [],
   "source": [
    "word_sequences, sentence_sequences = data.get_tokenized_sequences(word_list, sentence_list, model_word_len, model_sentence_len)"
   ]
  },
  {
   "cell_type": "code",
   "execution_count": 20,
   "metadata": {},
   "outputs": [
    {
     "data": {
      "text/plain": [
       "array([[27, 10,  7, 14,  8,  3,  6, 12,  8,  0,  0],\n",
       "       [ 7, 16,  0,  0,  0,  0,  0,  0,  0,  0,  0],\n",
       "       [12,  2, 15,  7,  6,  8,  4,  9,  3,  4,  7],\n",
       "       [10,  3, 23,  2,  0,  0,  0,  0,  0,  0,  0],\n",
       "       [15,  3,  9, 13, 10,  2, 12,  0,  0,  0,  0],\n",
       "       [ 4, 10,  9,  7, 14, 18, 10,  0,  0,  0,  0],\n",
       "       [55,  7,  6, 12,  7,  6,  0,  0,  0,  0,  0],\n",
       "       [ 4,  7,  0,  0,  0,  0,  0,  0,  0,  0,  0],\n",
       "       [17,  9,  7,  4,  2,  8,  4,  0,  0,  0,  0],\n",
       "       [ 4, 10,  2,  0,  0,  0,  0,  0,  0,  0,  0],\n",
       "       [21,  3,  9,  0,  0,  0,  0,  0,  0,  0,  0],\n",
       "       [ 5,  6,  0,  0,  0,  0,  0,  0,  0,  0,  0],\n",
       "       [30,  9,  3, 44,  0,  0,  0,  0,  0,  0,  0],\n",
       "       [ 3,  6, 12,  0,  0,  0,  0,  0,  0,  0,  0],\n",
       "       [12,  2, 15,  3,  6, 12,  0,  0,  0,  0,  0],\n",
       "       [ 4, 10,  2,  0,  0,  0,  0,  0,  0,  0,  0],\n",
       "       [21,  5,  4, 10, 12,  9,  3, 21,  3, 11,  0],\n",
       "       [ 7, 16,  0,  0,  0,  0,  0,  0,  0,  0,  0],\n",
       "       [37,  9,  5,  4,  5,  8, 10,  0,  0,  0,  0],\n",
       "       [ 4,  9,  7,  7, 17,  8,  0,  0,  0,  0,  0],\n",
       "       [16,  9,  7, 15,  0,  0,  0,  0,  0,  0,  0],\n",
       "       [ 4, 10,  3,  4,  0,  0,  0,  0,  0,  0,  0],\n",
       "       [13,  7, 14,  6,  4,  9, 19,  0,  0,  0,  0],\n",
       "       [20,  0,  0,  0,  0,  0,  0,  0,  0,  0,  0]])"
      ]
     },
     "execution_count": 20,
     "metadata": {},
     "output_type": "execute_result"
    }
   ],
   "source": [
    "word_sequences[0]"
   ]
  },
  {
   "cell_type": "markdown",
   "metadata": {},
   "source": [
    "### Defining the Model"
   ]
  },
  {
   "cell_type": "code",
   "execution_count": 28,
   "metadata": {},
   "outputs": [],
   "source": [
    "#Word Part of Model\n",
    "char_inputs = Input(shape=(model_sentence_len, model_word_len))\n",
    "x           = Embedding(char_vocab_size,\n",
    "                            char_embedding_dim,\n",
    "                            weights=[char_embedding_matrix],\n",
    "                            input_length=max_word_len,\n",
    "                            trainable=False)(char_inputs)\n",
    "x           = Dropout(dropout_rate)(x)\n",
    "x           = Conv2D(conv_filters, kernel_size=(1, window_size), padding='same')(x)\n",
    "x           = MaxPooling2D(pool_size=(1,model_word_len))(x)\n",
    "x           = Flatten()(x)\n",
    "\n",
    "#Sentence Part of Model\n",
    "# word_inputs = Input(shape=(model_sentence_len, ))\n",
    "# y           = Embedding(word_vocab_size,\n",
    "#                             word_embedding_dim,\n",
    "#                             weights=[word_embedding_matrix],\n",
    "#                             input_length=max_sentence_len,\n",
    "#                             trainable=False)(words_inputs)\n",
    "\n",
    "outputs     = Dense(char_embedding_dim)(x)\n"
   ]
  },
  {
   "cell_type": "code",
   "execution_count": 38,
   "metadata": {},
   "outputs": [],
   "source": [
    "model = Model(inputs=[char_inputs], outputs=outputs)"
   ]
  },
  {
   "cell_type": "code",
   "execution_count": 39,
   "metadata": {},
   "outputs": [
    {
     "name": "stdout",
     "output_type": "stream",
     "text": [
      "Model: \"model_1\"\n",
      "_________________________________________________________________\n",
      "Layer (type)                 Output Shape              Param #   \n",
      "=================================================================\n",
      "input_4 (InputLayer)         [(None, 38, 11)]          0         \n",
      "_________________________________________________________________\n",
      "embedding_1 (Embedding)      (None, 38, 11, 35)        3500      \n",
      "_________________________________________________________________\n",
      "dropout_1 (Dropout)          (None, 38, 11, 35)        0         \n",
      "_________________________________________________________________\n",
      "conv2d_1 (Conv2D)            (None, 38, 11, 30)        3180      \n",
      "_________________________________________________________________\n",
      "max_pooling2d_1 (MaxPooling2 (None, 38, 1, 30)         0         \n",
      "_________________________________________________________________\n",
      "flatten_1 (Flatten)          (None, 1140)              0         \n",
      "_________________________________________________________________\n",
      "dense (Dense)                (None, 35)                39935     \n",
      "=================================================================\n",
      "Total params: 46,615\n",
      "Trainable params: 43,115\n",
      "Non-trainable params: 3,500\n",
      "_________________________________________________________________\n"
     ]
    }
   ],
   "source": [
    "model.summary()"
   ]
  },
  {
   "cell_type": "code",
   "execution_count": 40,
   "metadata": {},
   "outputs": [
    {
     "data": {
      "text/plain": [
       "array([[3, 7, 5, 1, 3, 9, 5, 7, 7, 2, 0, 0, 5, 0, 4, 2, 6, 0, 5, 2, 0, 5,\n",
       "        2, 0, 8, 5, 7, 5, 8, 6, 8, 4, 5, 5, 5, 5, 5, 3],\n",
       "       [7, 7, 4, 0, 1, 2, 2, 2, 7, 2, 4, 1, 0, 9, 5, 0, 4, 7, 7, 2, 2, 1,\n",
       "        2, 7, 5, 1, 6, 2, 6, 6, 8, 8, 4, 4, 7, 3, 2, 2],\n",
       "       [4, 6, 1, 2, 0, 1, 1, 4, 8, 9, 1, 0, 8, 5, 3, 6, 0, 8, 8, 6, 9, 0,\n",
       "        9, 0, 3, 8, 7, 2, 2, 1, 1, 5, 1, 4, 1, 4, 5, 6],\n",
       "       [1, 9, 7, 0, 8, 8, 3, 0, 4, 3, 9, 3, 3, 6, 1, 4, 7, 1, 5, 5, 4, 7,\n",
       "        8, 8, 5, 6, 9, 5, 3, 3, 3, 3, 0, 9, 4, 0, 2, 0],\n",
       "       [3, 9, 2, 9, 1, 2, 0, 3, 4, 5, 5, 8, 5, 4, 1, 4, 0, 7, 0, 7, 0, 0,\n",
       "        6, 9, 3, 1, 2, 6, 6, 8, 1, 7, 6, 1, 2, 8, 4, 5],\n",
       "       [3, 4, 4, 0, 7, 8, 4, 9, 7, 5, 7, 7, 6, 4, 1, 4, 2, 3, 9, 4, 1, 4,\n",
       "        6, 0, 6, 4, 0, 2, 4, 1, 9, 2, 2, 9, 7, 5, 5, 7],\n",
       "       [9, 0, 5, 0, 4, 8, 9, 7, 8, 5, 2, 0, 8, 5, 7, 3, 0, 5, 9, 6, 9, 5,\n",
       "        5, 6, 9, 6, 6, 0, 2, 5, 5, 3, 7, 8, 5, 5, 4, 3],\n",
       "       [6, 8, 7, 1, 8, 2, 7, 8, 0, 1, 4, 5, 2, 2, 9, 9, 7, 2, 8, 0, 9, 8,\n",
       "        1, 2, 7, 1, 5, 3, 6, 2, 0, 0, 6, 1, 2, 3, 9, 4],\n",
       "       [9, 4, 2, 7, 4, 1, 3, 6, 9, 0, 3, 9, 5, 2, 3, 4, 8, 0, 2, 2, 0, 9,\n",
       "        2, 7, 3, 6, 2, 7, 8, 8, 2, 2, 0, 4, 3, 3, 0, 6],\n",
       "       [7, 7, 9, 5, 1, 6, 1, 4, 8, 2, 3, 3, 2, 1, 7, 3, 0, 4, 6, 1, 6, 2,\n",
       "        5, 0, 5, 9, 5, 9, 6, 4, 8, 8, 1, 9, 2, 8, 0, 8],\n",
       "       [1, 9, 9, 6, 9, 1, 5, 3, 9, 0, 5, 4, 0, 2, 4, 1, 1, 5, 7, 3, 7, 4,\n",
       "        2, 0, 6, 1, 8, 7, 3, 1, 7, 6, 6, 6, 7, 0, 4, 7]])"
      ]
     },
     "execution_count": 40,
     "metadata": {},
     "output_type": "execute_result"
    }
   ],
   "source": [
    "array = np.random.randint(10, size=(11, 38))\n",
    "array"
   ]
  },
  {
   "cell_type": "code",
   "execution_count": 41,
   "metadata": {},
   "outputs": [
    {
     "data": {
      "text/plain": [
       "array([[-0.588582  , -0.31788087,  0.06420205,  0.11311965,  0.04510457,\n",
       "         0.48612192, -0.8989942 , -0.00648756,  0.36246017, -0.08838062,\n",
       "         0.46495324, -0.324118  , -0.7427248 , -0.1971462 ,  0.63165516,\n",
       "         0.0421341 ,  0.0324133 ,  0.34811825, -0.16643837, -1.0018299 ,\n",
       "        -0.3986591 , -0.194302  , -0.20608908, -0.10410573, -0.603616  ,\n",
       "         0.13091409,  0.40794054, -0.5922547 , -0.1245733 ,  0.01020445,\n",
       "         0.30914104, -0.42015412,  0.6095438 , -0.42226735, -0.37890208]],\n",
       "      dtype=float32)"
      ]
     },
     "execution_count": 41,
     "metadata": {},
     "output_type": "execute_result"
    }
   ],
   "source": [
    "model.predict(input_sentence)"
   ]
  },
  {
   "cell_type": "code",
   "execution_count": null,
   "metadata": {},
   "outputs": [],
   "source": []
  }
 ],
 "metadata": {
  "kernelspec": {
   "display_name": "Python 3",
   "language": "python",
   "name": "python3"
  },
  "language_info": {
   "codemirror_mode": {
    "name": "ipython",
    "version": 3
   },
   "file_extension": ".py",
   "mimetype": "text/x-python",
   "name": "python",
   "nbconvert_exporter": "python",
   "pygments_lexer": "ipython3",
   "version": "3.7.4"
  }
 },
 "nbformat": 4,
 "nbformat_minor": 4
}
