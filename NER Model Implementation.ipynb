{
 "cells": [
  {
   "cell_type": "code",
   "execution_count": 36,
   "metadata": {},
   "outputs": [],
   "source": [
    "import pickle\n",
    "import pandas as pd\n",
    "import numpy as np\n",
    "\n",
    "from ner_utils.Sentence import Sentence\n",
    "from ner_utils.Data     import Data\n",
    "\n",
    "from tensorflow.keras.models import Model\n",
    "from tensorflow.keras.layers import Input, Conv2D, MaxPooling2D, Dropout, Dense, Flatten, Embedding, Concatenate\n",
    "from tensorflow              import convert_to_tensor"
   ]
  },
  {
   "cell_type": "markdown",
   "metadata": {},
   "source": [
    "### Character Tokenization"
   ]
  },
  {
   "cell_type": "code",
   "execution_count": 16,
   "metadata": {},
   "outputs": [],
   "source": [
    "data = Data('data/ner_datasetreference.csv', encoding='latin1')\n",
    "sentence = Sentence(data.dataset)\n",
    "\n",
    "# generating character tokens\n",
    "word_list   = data.dataset['Word'].values\n",
    "char_tokens = data.tokenize_data(word_list, lower=False, char_level=True)\n",
    "\n",
    "# mapping chars to indices\n",
    "char_to_idx = char_tokens.word_index\n",
    "# mapping indices to chars\n",
    "idx_to_char = { idx : char for char, idx in char_to_idx.items()}\n"
   ]
  },
  {
   "cell_type": "code",
   "execution_count": 17,
   "metadata": {
    "scrolled": true
   },
   "outputs": [
    {
     "data": {
      "text/plain": [
       "{'UNK': 1,\n",
       " 'e': 2,\n",
       " 'a': 3,\n",
       " 't': 4,\n",
       " 'i': 5,\n",
       " 'n': 6,\n",
       " 'o': 7,\n",
       " 's': 8,\n",
       " 'r': 9,\n",
       " 'h': 10,\n",
       " 'l': 11,\n",
       " 'd': 12,\n",
       " 'c': 13,\n",
       " 'u': 14,\n",
       " 'm': 15,\n",
       " 'f': 16,\n",
       " 'p': 17,\n",
       " 'g': 18,\n",
       " 'y': 19,\n",
       " '.': 20,\n",
       " 'w': 21,\n",
       " 'b': 22,\n",
       " 'v': 23,\n",
       " ',': 24,\n",
       " 'k': 25,\n",
       " 'S': 26,\n",
       " 'T': 27,\n",
       " 'A': 28,\n",
       " 'M': 29,\n",
       " 'I': 30,\n",
       " '0': 31,\n",
       " '-': 32,\n",
       " \"'\": 33,\n",
       " 'P': 34,\n",
       " 'C': 35,\n",
       " 'U': 36,\n",
       " 'B': 37,\n",
       " '1': 38,\n",
       " 'z': 39,\n",
       " 'N': 40,\n",
       " 'H': 41,\n",
       " 'x': 42,\n",
       " '2': 43,\n",
       " 'q': 44,\n",
       " 'F': 45,\n",
       " 'R': 46,\n",
       " 'E': 47,\n",
       " 'K': 48,\n",
       " 'j': 49,\n",
       " 'O': 50,\n",
       " 'W': 51,\n",
       " 'D': 52,\n",
       " 'G': 53,\n",
       " 'J': 54,\n",
       " 'L': 55,\n",
       " '9': 56,\n",
       " '\"': 57,\n",
       " '5': 58,\n",
       " '3': 59,\n",
       " 'V': 60,\n",
       " '8': 61,\n",
       " '4': 62,\n",
       " '6': 63,\n",
       " '7': 64,\n",
       " 'Y': 65,\n",
       " '$': 66,\n",
       " 'Z': 67,\n",
       " 'Q': 68,\n",
       " ')': 69,\n",
       " '(': 70,\n",
       " '%': 71,\n",
       " 'X': 72,\n",
       " ';': 73,\n",
       " ':': 74,\n",
       " '/': 75,\n",
       " '?': 76,\n",
       " '&': 77,\n",
       " '!': 78,\n",
       " '~': 79,\n",
       " 'é': 80,\n",
       " '[': 81,\n",
       " ']': 82,\n",
       " '#': 83,\n",
       " '\\x92': 84,\n",
       " '\\x96': 85,\n",
       " '\\x85': 86,\n",
       " '\\x94': 87,\n",
       " 'ö': 88,\n",
       " '+': 89,\n",
       " '@': 90,\n",
       " '\\x93': 91,\n",
       " '°': 92,\n",
       " '\\x97': 93,\n",
       " '_': 94,\n",
       " 'ë': 95,\n",
       " 'ü': 96,\n",
       " '\\x91': 97,\n",
       " '`': 98,\n",
       " '\\xa0': 99}"
      ]
     },
     "execution_count": 17,
     "metadata": {},
     "output_type": "execute_result"
    }
   ],
   "source": [
    "char_to_idx"
   ]
  },
  {
   "cell_type": "code",
   "execution_count": 18,
   "metadata": {
    "collapsed": true
   },
   "outputs": [
    {
     "data": {
      "text/plain": [
       "{1: 'UNK',\n",
       " 2: 'e',\n",
       " 3: 'a',\n",
       " 4: 't',\n",
       " 5: 'i',\n",
       " 6: 'n',\n",
       " 7: 'o',\n",
       " 8: 's',\n",
       " 9: 'r',\n",
       " 10: 'h',\n",
       " 11: 'l',\n",
       " 12: 'd',\n",
       " 13: 'c',\n",
       " 14: 'u',\n",
       " 15: 'm',\n",
       " 16: 'f',\n",
       " 17: 'p',\n",
       " 18: 'g',\n",
       " 19: 'y',\n",
       " 20: '.',\n",
       " 21: 'w',\n",
       " 22: 'b',\n",
       " 23: 'v',\n",
       " 24: ',',\n",
       " 25: 'k',\n",
       " 26: 'S',\n",
       " 27: 'T',\n",
       " 28: 'A',\n",
       " 29: 'M',\n",
       " 30: 'I',\n",
       " 31: '0',\n",
       " 32: '-',\n",
       " 33: \"'\",\n",
       " 34: 'P',\n",
       " 35: 'C',\n",
       " 36: 'U',\n",
       " 37: 'B',\n",
       " 38: '1',\n",
       " 39: 'z',\n",
       " 40: 'N',\n",
       " 41: 'H',\n",
       " 42: 'x',\n",
       " 43: '2',\n",
       " 44: 'q',\n",
       " 45: 'F',\n",
       " 46: 'R',\n",
       " 47: 'E',\n",
       " 48: 'K',\n",
       " 49: 'j',\n",
       " 50: 'O',\n",
       " 51: 'W',\n",
       " 52: 'D',\n",
       " 53: 'G',\n",
       " 54: 'J',\n",
       " 55: 'L',\n",
       " 56: '9',\n",
       " 57: '\"',\n",
       " 58: '5',\n",
       " 59: '3',\n",
       " 60: 'V',\n",
       " 61: '8',\n",
       " 62: '4',\n",
       " 63: '6',\n",
       " 64: '7',\n",
       " 65: 'Y',\n",
       " 66: '$',\n",
       " 67: 'Z',\n",
       " 68: 'Q',\n",
       " 69: ')',\n",
       " 70: '(',\n",
       " 71: '%',\n",
       " 72: 'X',\n",
       " 73: ';',\n",
       " 74: ':',\n",
       " 75: '/',\n",
       " 76: '?',\n",
       " 77: '&',\n",
       " 78: '!',\n",
       " 79: '~',\n",
       " 80: 'é',\n",
       " 81: '[',\n",
       " 82: ']',\n",
       " 83: '#',\n",
       " 84: '\\x92',\n",
       " 85: '\\x96',\n",
       " 86: '\\x85',\n",
       " 87: '\\x94',\n",
       " 88: 'ö',\n",
       " 89: '+',\n",
       " 90: '@',\n",
       " 91: '\\x93',\n",
       " 92: '°',\n",
       " 93: '\\x97',\n",
       " 94: '_',\n",
       " 95: 'ë',\n",
       " 96: 'ü',\n",
       " 97: '\\x91',\n",
       " 98: '`',\n",
       " 99: '\\xa0'}"
      ]
     },
     "execution_count": 18,
     "metadata": {},
     "output_type": "execute_result"
    }
   ],
   "source": [
    "idx_to_char"
   ]
  },
  {
   "cell_type": "markdown",
   "metadata": {},
   "source": [
    "### Char Embeddings"
   ]
  },
  {
   "cell_type": "code",
   "execution_count": 19,
   "metadata": {},
   "outputs": [],
   "source": [
    "# getting char voacb\n",
    "# with open('unique_chars.pkl', 'wb') as f:\n",
    "#     pickle.dump(sentence.get_unique_chars(), f)\n",
    "\n",
    "# loading char vocab   \n",
    "with open('unique_chars.pkl', 'rb') as f:\n",
    "    chars = pickle.load(f)"
   ]
  },
  {
   "cell_type": "code",
   "execution_count": 20,
   "metadata": {},
   "outputs": [
    {
     "data": {
      "text/plain": [
       "(4.773359082564433, 2.8246976648249014)"
      ]
     },
     "execution_count": 20,
     "metadata": {},
     "output_type": "execute_result"
    }
   ],
   "source": [
    "# sentence info to pass to the model\n",
    "max_word_len, min_word_len, avg_word_len, std_word_len = sentence.get_word_info()\n",
    "avg_word_len, std_word_len"
   ]
  },
  {
   "cell_type": "code",
   "execution_count": 22,
   "metadata": {},
   "outputs": [],
   "source": [
    "model_word_len     = int(np.ceil(avg_word_len + 2*std_word_len))\n",
    "model_sentence_len = 10\n",
    "char_embedding_dim = 35\n",
    "char_vocab_size    = len(char_to_idx) + 1 #add 1 for padding token\n",
    "window_size        = 3\n",
    "conv_filters       = 30 \n",
    "dropout_rate       = 0.5\n",
    "#input_shape=(model_word_len, char_embedding_dim)"
   ]
  },
  {
   "cell_type": "code",
   "execution_count": 21,
   "metadata": {},
   "outputs": [],
   "source": [
    "def get_char_embedding_matrix(embedding_filename, vocab_size, embedding_dim, char_to_idx):\n",
    "    \n",
    "    with open(embedding_filename, 'rb') as f:\n",
    "        char_embeddings = pickle.load(f)\n",
    "    \n",
    "    embedding_matrix = np.zeros((vocab_size, embedding_dim))\n",
    "    for char, embedding in char_embeddings.items():\n",
    "        embedding_matrix[char_to_idx[char]] = embedding\n",
    "        \n",
    "    return embedding_matrix  "
   ]
  },
  {
   "cell_type": "code",
   "execution_count": 23,
   "metadata": {
    "scrolled": true
   },
   "outputs": [],
   "source": [
    "char_embedding_matrix = get_char_embedding_matrix('char_embeddings_with_features.pkl', char_vocab_size, char_embedding_dim, char_to_idx)\n"
   ]
  },
  {
   "cell_type": "code",
   "execution_count": 24,
   "metadata": {},
   "outputs": [
    {
     "data": {
      "text/plain": [
       "100"
      ]
     },
     "execution_count": 24,
     "metadata": {},
     "output_type": "execute_result"
    }
   ],
   "source": [
    "len(char_embedding_matrix)"
   ]
  },
  {
   "cell_type": "code",
   "execution_count": 25,
   "metadata": {
    "scrolled": true
   },
   "outputs": [
    {
     "data": {
      "text/plain": [
       "(1, 10, 11)"
      ]
     },
     "execution_count": 25,
     "metadata": {},
     "output_type": "execute_result"
    }
   ],
   "source": [
    "input_sentence = [ [0, 1, 2, 3, 4, 5, 6, 7, 8, 9, 10] ] * model_sentence_len\n",
    "input_sentence = np.expand_dims(input_sentence, axis=0)\n",
    "np.shape(input_sentence)"
   ]
  },
  {
   "cell_type": "markdown",
   "metadata": {},
   "source": [
    "### Defining the Model"
   ]
  },
  {
   "cell_type": "code",
   "execution_count": 43,
   "metadata": {},
   "outputs": [],
   "source": [
    "inputs1  = Input(shape=(model_sentence_len, model_word_len))\n",
    "x       = Embedding(char_vocab_size,\n",
    "                            char_embedding_dim,\n",
    "                            weights=[char_embedding_matrix],\n",
    "                            input_length=max_word_len,\n",
    "                            trainable=False)(inputs1)\n",
    "# x       = Reshape((1, 64, 35))(x)\n",
    "x       = Dropout(dropout_rate)(x)\n",
    "x       = Conv2D(conv_filters, kernel_size=(1, window_size), padding='same')(x)\n",
    "x       = MaxPooling2D(pool_size=(1,model_word_len))(x)\n",
    "x       = Flatten()(x)\n",
    "outputs = Dense(char_embedding_dim)(x)\n",
    "\n",
    "#outputs = Dense(2, activation='relu')(x)"
   ]
  },
  {
   "cell_type": "code",
   "execution_count": 44,
   "metadata": {},
   "outputs": [],
   "source": [
    "model = Model(inputs=[inputs1, inputs2], outputs=outputs)"
   ]
  },
  {
   "cell_type": "code",
   "execution_count": 45,
   "metadata": {},
   "outputs": [
    {
     "name": "stdout",
     "output_type": "stream",
     "text": [
      "Model: \"model_2\"\n",
      "__________________________________________________________________________________________________\n",
      "Layer (type)                    Output Shape         Param #     Connected to                     \n",
      "==================================================================================================\n",
      "input_22 (InputLayer)           [(None, 10, 11)]     0                                            \n",
      "__________________________________________________________________________________________________\n",
      "embedding_11 (Embedding)        (None, 10, 11, 35)   3500        input_22[0][0]                   \n",
      "__________________________________________________________________________________________________\n",
      "dropout_11 (Dropout)            (None, 10, 11, 35)   0           embedding_11[0][0]               \n",
      "__________________________________________________________________________________________________\n",
      "conv2d_11 (Conv2D)              (None, 10, 11, 30)   3180        dropout_11[0][0]                 \n",
      "__________________________________________________________________________________________________\n",
      "max_pooling2d_11 (MaxPooling2D) (None, 10, 1, 30)    0           conv2d_11[0][0]                  \n",
      "__________________________________________________________________________________________________\n",
      "flatten_11 (Flatten)            (None, 300)          0           max_pooling2d_11[0][0]           \n",
      "__________________________________________________________________________________________________\n",
      "input_23 (InputLayer)           [(None, 10)]         0                                            \n",
      "__________________________________________________________________________________________________\n",
      "concatenate_8 (Concatenate)     (None, 310)          0           flatten_11[0][0]                 \n",
      "                                                                 input_23[0][0]                   \n",
      "__________________________________________________________________________________________________\n",
      "dense_6 (Dense)                 (None, 35)           10885       concatenate_8[0][0]              \n",
      "==================================================================================================\n",
      "Total params: 17,565\n",
      "Trainable params: 14,065\n",
      "Non-trainable params: 3,500\n",
      "__________________________________________________________________________________________________\n"
     ]
    }
   ],
   "source": [
    "model.summary()"
   ]
  },
  {
   "cell_type": "code",
   "execution_count": 81,
   "metadata": {},
   "outputs": [
    {
     "data": {
      "text/plain": [
       "array([[5, 8, 6, 4, 1, 8, 8, 9, 6, 1, 0],\n",
       "       [5, 5, 0, 8, 6, 6, 2, 3, 9, 0, 1],\n",
       "       [1, 6, 2, 4, 7, 3, 6, 4, 8, 9, 1],\n",
       "       [2, 9, 3, 1, 3, 9, 0, 1, 1, 6, 3],\n",
       "       [8, 6, 3, 1, 0, 4, 6, 0, 8, 6, 8],\n",
       "       [9, 8, 2, 3, 6, 1, 6, 0, 6, 1, 1],\n",
       "       [5, 1, 9, 1, 5, 8, 2, 5, 9, 8, 7],\n",
       "       [6, 1, 4, 5, 9, 6, 3, 5, 2, 5, 1],\n",
       "       [9, 4, 2, 5, 7, 0, 5, 3, 6, 6, 4],\n",
       "       [6, 3, 7, 2, 4, 0, 5, 2, 8, 1, 8],\n",
       "       [8, 7, 7, 4, 9, 7, 2, 7, 7, 9, 1],\n",
       "       [2, 6, 3, 2, 0, 6, 9, 9, 3, 5, 2],\n",
       "       [6, 1, 4, 8, 7, 4, 5, 8, 2, 0, 6],\n",
       "       [0, 0, 6, 4, 3, 4, 1, 8, 1, 5, 8],\n",
       "       [4, 2, 6, 0, 7, 0, 5, 9, 2, 0, 7],\n",
       "       [0, 5, 8, 4, 7, 0, 3, 4, 6, 5, 5],\n",
       "       [0, 1, 8, 4, 7, 6, 2, 7, 8, 6, 1],\n",
       "       [3, 4, 8, 4, 2, 8, 3, 4, 2, 0, 1],\n",
       "       [7, 5, 3, 6, 5, 1, 7, 5, 7, 4, 6],\n",
       "       [5, 0, 5, 8, 3, 6, 8, 0, 0, 9, 9],\n",
       "       [2, 3, 5, 9, 1, 1, 7, 6, 5, 6, 1],\n",
       "       [8, 3, 6, 3, 9, 3, 0, 2, 5, 4, 3],\n",
       "       [6, 5, 0, 1, 7, 2, 9, 3, 5, 9, 3],\n",
       "       [7, 7, 9, 2, 5, 3, 6, 2, 1, 4, 1],\n",
       "       [7, 1, 2, 3, 3, 5, 7, 7, 1, 0, 3],\n",
       "       [9, 9, 4, 5, 1, 9, 6, 6, 0, 3, 8],\n",
       "       [5, 6, 3, 6, 2, 9, 3, 8, 5, 2, 0],\n",
       "       [1, 2, 1, 2, 9, 0, 4, 3, 6, 2, 6],\n",
       "       [4, 4, 8, 9, 5, 2, 1, 0, 8, 7, 9],\n",
       "       [6, 6, 2, 3, 9, 2, 3, 7, 9, 9, 7]])"
      ]
     },
     "execution_count": 81,
     "metadata": {},
     "output_type": "execute_result"
    }
   ],
   "source": [
    "array = np.random.randint(10, size=(11, ))\n",
    "array"
   ]
  },
  {
   "cell_type": "code",
   "execution_count": 97,
   "metadata": {},
   "outputs": [
    {
     "data": {
      "text/plain": [
       "array([[-0.24038328,  0.4033629 , -0.32530367, -0.41237628, -0.24126104,\n",
       "         0.65062016, -0.43435034, -0.8574492 , -0.09381327,  0.254031  ,\n",
       "        -0.39190325, -0.3600513 ,  0.3980916 , -0.40338573, -0.29359978,\n",
       "        -0.37955457, -0.6862881 ,  0.20838639, -1.0729555 , -0.8090278 ,\n",
       "         0.0095225 , -0.19786382,  0.35451126,  0.00508714,  0.11782737,\n",
       "        -0.3889305 ,  0.40416017,  0.35667178,  0.49268103, -0.01485226,\n",
       "         0.35816324,  0.19061807, -0.46540278, -0.1806159 ,  0.6091532 ]],\n",
       "      dtype=float32)"
      ]
     },
     "execution_count": 97,
     "metadata": {},
     "output_type": "execute_result"
    }
   ],
   "source": [
    "model.predict(input_sentence)"
   ]
  },
  {
   "cell_type": "code",
   "execution_count": null,
   "metadata": {},
   "outputs": [],
   "source": []
  }
 ],
 "metadata": {
  "interpreter": {
   "hash": "db3ca9ec755843094bfe658d337cf97d381b019c52f517307d44cf002f9583d1"
  },
  "kernelspec": {
   "display_name": "Python 3.8.3 64-bit",
   "name": "python3"
  },
  "language_info": {
   "codemirror_mode": {
    "name": "ipython",
    "version": 3
   },
   "file_extension": ".py",
   "mimetype": "text/x-python",
   "name": "python",
   "nbconvert_exporter": "python",
   "pygments_lexer": "ipython3",
   "version": "3.8.3"
  }
 },
 "nbformat": 4,
 "nbformat_minor": 4
}
