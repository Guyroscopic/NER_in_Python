{
 "cells": [
  {
   "cell_type": "code",
   "execution_count": 177,
   "metadata": {},
   "outputs": [],
   "source": [
    "import pickle\n",
    "import pandas as pd\n",
    "import numpy as np\n",
    "\n",
    "from ner_utils.Sentence import Sentence\n",
    "from ner_utils.Data     import Data\n",
    "\n",
    "from tensorflow.keras.models import Model, Sequential\n",
    "from tensorflow.keras.layers import Input, Conv2D, MaxPooling2D, Dropout, Dense, Flatten, Embedding, Concatenate, Reshape, Permute"
   ]
  },
  {
   "cell_type": "markdown",
   "metadata": {},
   "source": [
    "### Character Tokenization"
   ]
  },
  {
   "cell_type": "code",
   "execution_count": 6,
   "metadata": {},
   "outputs": [],
   "source": [
    "data = Data('data/ner_datasetreference.csv', encoding='latin1')\n",
    "sentence = Sentence(data.dataset)"
   ]
  },
  {
   "cell_type": "code",
   "execution_count": 7,
   "metadata": {},
   "outputs": [],
   "source": [
    "word_list, sentence_list = sentence.get_words_and_sentences()\n",
    "word_sequences, sentence_sequences = data.get_tokenized_sequences(word_list, sentence_list)"
   ]
  },
  {
   "cell_type": "code",
   "execution_count": 8,
   "metadata": {},
   "outputs": [],
   "source": [
    "char_to_idx, word_to_idx, idx_to_char, idx_to_word = data._get_tokens(word_list, sentence_list)"
   ]
  },
  {
   "cell_type": "code",
   "execution_count": 9,
   "metadata": {},
   "outputs": [
    {
     "data": {
      "text/plain": [
       "array([ 254,    6,  967,   16, 1795,  238,  468,    7,  523,    2,  129,\n",
       "          5,   61,    9,  571,    2,  833,    6,  186,   90,   22,   15,\n",
       "         56,    3,    0,    0,    0,    0,    0,    0,    0,    0,    0,\n",
       "          0,    0,    0,    0,    0,    0,    0,    0,    0,    0,    0,\n",
       "          0,    0,    0,    0,    0,    0,    0,    0,    0,    0,    0,\n",
       "          0,    0,    0,    0,    0,    0,    0,    0,    0,    0,    0,\n",
       "          0,    0,    0,    0,    0,    0,    0,    0,    0,    0,    0,\n",
       "          0,    0,    0,    0,    0,    0,    0,    0,    0,    0,    0,\n",
       "          0,    0,    0,    0,    0,    0,    0,    0,    0,    0,    0,\n",
       "          0,    0,    0,    0,    0])"
      ]
     },
     "execution_count": 9,
     "metadata": {},
     "output_type": "execute_result"
    }
   ],
   "source": [
    "sentence_sequences[0]"
   ]
  },
  {
   "cell_type": "markdown",
   "metadata": {},
   "source": [
    "### Char Embeddings"
   ]
  },
  {
   "cell_type": "code",
   "execution_count": 10,
   "metadata": {},
   "outputs": [],
   "source": [
    "# getting char voacb\n",
    "# with open('unique_chars.pkl', 'wb') as f:\n",
    "#     pickle.dump(sentence.get_unique_chars(), f)\n",
    "\n",
    "# loading char vocab   \n",
    "with open('unique_chars.pkl', 'rb') as f:\n",
    "    chars = pickle.load(f)"
   ]
  },
  {
   "cell_type": "code",
   "execution_count": 11,
   "metadata": {},
   "outputs": [
    {
     "data": {
      "text/plain": [
       "(4.773359082564433, 2.8246976648249014)"
      ]
     },
     "execution_count": 11,
     "metadata": {},
     "output_type": "execute_result"
    }
   ],
   "source": [
    "# Word info to pass to the model\n",
    "max_word_len, min_word_len, avg_word_len, std_word_len = sentence.get_word_info()\n",
    "avg_word_len, std_word_len"
   ]
  },
  {
   "cell_type": "code",
   "execution_count": 12,
   "metadata": {},
   "outputs": [
    {
     "data": {
      "text/plain": [
       "(104, 1, 21.863987989741236, 7.963596820721575)"
      ]
     },
     "execution_count": 12,
     "metadata": {},
     "output_type": "execute_result"
    }
   ],
   "source": [
    "# Sentence info to pass to the model\n",
    "max_sentence_len, min_sentence_len, avg_sentence_len, std_sentence_len = sentence.get_sentence_info()\n",
    "max_sentence_len, min_sentence_len, avg_sentence_len, std_sentence_len"
   ]
  },
  {
   "cell_type": "code",
   "execution_count": 23,
   "metadata": {},
   "outputs": [
    {
     "data": {
      "text/plain": [
       "(11, 38, 31819)"
      ]
     },
     "execution_count": 23,
     "metadata": {},
     "output_type": "execute_result"
    }
   ],
   "source": [
    "#Word Level Hyper Parameters\n",
    "model_word_len     = int(np.ceil(avg_word_len + 2*std_word_len))\n",
    "char_embedding_dim = 35\n",
    "char_vocab_size    = len(char_to_idx) + 1 #add 1 for padding token\n",
    "window_size        = 3\n",
    "conv_filters       = 30 \n",
    "dropout_rate       = 0.5\n",
    "\n",
    "#Sentence Level Hyper Parameters\n",
    "model_sentence_len = int(np.ceil(avg_sentence_len + 2*std_sentence_len))\n",
    "word_embedding_dim = 100\n",
    "word_vocab_size    = len(word_to_idx) + 1 #add 1 for padding token\n",
    "\n",
    "\n",
    "model_word_len, model_sentence_len, word_vocab_size"
   ]
  },
  {
   "cell_type": "code",
   "execution_count": 14,
   "metadata": {},
   "outputs": [],
   "source": [
    "def get_char_embedding_matrix(embedding_filename, vocab_size, embedding_dim, char_to_idx):\n",
    "    \n",
    "    with open(embedding_filename, 'rb') as f:\n",
    "        char_embeddings = pickle.load(f)\n",
    "    \n",
    "    embedding_matrix = np.zeros((vocab_size, embedding_dim))\n",
    "    for char, embedding in char_embeddings.items():\n",
    "        embedding_matrix[char_to_idx[char]] = embedding\n",
    "        \n",
    "    return embedding_matrix  "
   ]
  },
  {
   "cell_type": "code",
   "execution_count": 15,
   "metadata": {
    "scrolled": true
   },
   "outputs": [],
   "source": [
    "char_embedding_matrix = get_char_embedding_matrix('char_embeddings_with_features.pkl', char_vocab_size, char_embedding_dim, char_to_idx)\n"
   ]
  },
  {
   "cell_type": "code",
   "execution_count": 17,
   "metadata": {},
   "outputs": [],
   "source": [
    "#word_embedding_martrix = get_char_embedding_matrix()"
   ]
  },
  {
   "cell_type": "code",
   "execution_count": 18,
   "metadata": {
    "scrolled": true
   },
   "outputs": [
    {
     "data": {
      "text/plain": [
       "(1, 38, 11)"
      ]
     },
     "execution_count": 18,
     "metadata": {},
     "output_type": "execute_result"
    }
   ],
   "source": [
    "input_sentence = [[0, 1, 2, 3, 4, 5, 6, 7, 8, 9, 10] ] * model_sentence_len\n",
    "input_sentence = np.expand_dims(input_sentence, axis=0)\n",
    "np.shape(input_sentence)"
   ]
  },
  {
   "cell_type": "markdown",
   "metadata": {},
   "source": [
    "### Defining the Model"
   ]
  },
  {
   "cell_type": "code",
   "execution_count": 173,
   "metadata": {},
   "outputs": [],
   "source": [
    "#Word Part of Model\n",
    "char_inputs = Input(shape=(model_word_len), batch_size=model_sentence_len)\n",
    "x           = Embedding(char_vocab_size,\n",
    "                            char_embedding_dim,\n",
    "                            weights=[char_embedding_matrix],\n",
    "                            input_length=max_word_len,\n",
    "                            trainable=True)(char_inputs)\n",
    "x           = Permute((2, 1), input_shape=(11, 35))(x)\n",
    "x           = Dropout(dropout_rate)(x)\n",
    "x           = Reshape((35, 11, 1))(x)\n",
    "x           = Conv2D(conv_filters, input_shape=(38, 35, 11, 1), kernel_size=(1, window_size), padding='same')(x)\n",
    "x           = MaxPooling2D(pool_size=(1,model_word_len ))(x)\n",
    "# x           = Reshape((35, 30))(x)\n",
    "# x           = Flatten()(x)\n",
    "x           = Dense(1, input_shape=(35, 1, 30))(x)\n",
    "x           = Reshape((35, ))(x)\n",
    "\n",
    "\n",
    "#Sentence Part of Model\n",
    "word_inputs = Input(shape=(model_sentence_len, ))\n",
    "y           = Embedding(word_vocab_size,\n",
    "                            word_embedding_dim,\n",
    "                            #weights=[word_embedding_matrix],\n",
    "                            input_length=max_sentence_len,\n",
    "                            trainable=False)(word_inputs)\n",
    "\n",
    "#Joining the two parts\n",
    "\n",
    "#outputs = Concatenate(axis=0)([y, x])\n",
    "outputs = x\n"
   ]
  },
  {
   "cell_type": "code",
   "execution_count": 174,
   "metadata": {},
   "outputs": [],
   "source": [
    "model = Model(inputs=[char_inputs, word_inputs], outputs=outputs)"
   ]
  },
  {
   "cell_type": "code",
   "execution_count": 175,
   "metadata": {},
   "outputs": [
    {
     "name": "stdout",
     "output_type": "stream",
     "text": [
      "Model: \"model_38\"\n",
      "__________________________________________________________________________________________________\n",
      "Layer (type)                    Output Shape         Param #     Connected to                     \n",
      "==================================================================================================\n",
      "input_147 (InputLayer)          [(38, 11)]           0                                            \n",
      "__________________________________________________________________________________________________\n",
      "embedding_146 (Embedding)       (38, 11, 35)         3500        input_147[0][0]                  \n",
      "__________________________________________________________________________________________________\n",
      "permute_1 (Permute)             (38, 35, 11)         0           embedding_146[0][0]              \n",
      "__________________________________________________________________________________________________\n",
      "dropout_77 (Dropout)            (38, 35, 11)         0           permute_1[0][0]                  \n",
      "__________________________________________________________________________________________________\n",
      "reshape_128 (Reshape)           (38, 35, 11, 1)      0           dropout_77[0][0]                 \n",
      "__________________________________________________________________________________________________\n",
      "conv2d_71 (Conv2D)              (38, 35, 11, 30)     120         reshape_128[0][0]                \n",
      "__________________________________________________________________________________________________\n",
      "max_pooling2d_65 (MaxPooling2D) (38, 35, 1, 30)      0           conv2d_71[0][0]                  \n",
      "__________________________________________________________________________________________________\n",
      "dense_41 (Dense)                (38, 35, 1, 1)       31          max_pooling2d_65[0][0]           \n",
      "__________________________________________________________________________________________________\n",
      "input_148 (InputLayer)          [(None, 38)]         0                                            \n",
      "__________________________________________________________________________________________________\n",
      "reshape_129 (Reshape)           (38, 35)             0           dense_41[0][0]                   \n",
      "==================================================================================================\n",
      "Total params: 3,651\n",
      "Trainable params: 3,651\n",
      "Non-trainable params: 0\n",
      "__________________________________________________________________________________________________\n"
     ]
    }
   ],
   "source": [
    "model.summary()"
   ]
  },
  {
   "cell_type": "code",
   "execution_count": 176,
   "metadata": {},
   "outputs": [
    {
     "data": {
      "text/plain": [
       "array([1, 9, 1, 3, 7, 4, 8, 1, 9, 8, 9])"
      ]
     },
     "execution_count": 176,
     "metadata": {},
     "output_type": "execute_result"
    }
   ],
   "source": [
    "array = np.random.randint(10, size=(11, ))\n",
    "array"
   ]
  },
  {
   "cell_type": "code",
   "execution_count": null,
   "metadata": {},
   "outputs": [],
   "source": [
    "model.predict(input_sentence)"
   ]
  },
  {
   "cell_type": "code",
   "execution_count": 192,
   "metadata": {},
   "outputs": [],
   "source": [
    "a = Input((3, 2))\n",
    "b = Permute((2, 1), input_shape=(3, 2))(a)\n",
    "\n",
    "test = Model(inputs=a, outputs=b)"
   ]
  },
  {
   "cell_type": "code",
   "execution_count": 199,
   "metadata": {},
   "outputs": [
    {
     "data": {
      "text/plain": [
       "(1, 3, 2)"
      ]
     },
     "execution_count": 199,
     "metadata": {},
     "output_type": "execute_result"
    }
   ],
   "source": [
    "pop = np.array([[1, 2], [3, 4], [5, 6]])\n",
    "pop = np.expand_dims(pop,  axis=0)\n",
    "pop.shape"
   ]
  },
  {
   "cell_type": "code",
   "execution_count": 200,
   "metadata": {},
   "outputs": [
    {
     "name": "stdout",
     "output_type": "stream",
     "text": [
      "Model: \"sequential\"\n",
      "_________________________________________________________________\n",
      "Layer (type)                 Output Shape              Param #   \n",
      "=================================================================\n",
      "permute_2 (Permute)          (None, 2, 3)              0         \n",
      "=================================================================\n",
      "Total params: 0\n",
      "Trainable params: 0\n",
      "Non-trainable params: 0\n",
      "_________________________________________________________________\n"
     ]
    }
   ],
   "source": [
    "test_model.summary()"
   ]
  },
  {
   "cell_type": "code",
   "execution_count": 201,
   "metadata": {},
   "outputs": [
    {
     "data": {
      "text/plain": [
       "array([[[1., 3., 5.],\n",
       "        [2., 4., 6.]]], dtype=float32)"
      ]
     },
     "execution_count": 201,
     "metadata": {},
     "output_type": "execute_result"
    }
   ],
   "source": [
    "test.predict([pop])"
   ]
  },
  {
   "cell_type": "code",
   "execution_count": null,
   "metadata": {},
   "outputs": [],
   "source": []
  },
  {
   "cell_type": "code",
   "execution_count": null,
   "metadata": {},
   "outputs": [],
   "source": []
  }
 ],
 "metadata": {
  "interpreter": {
   "hash": "db3ca9ec755843094bfe658d337cf97d381b019c52f517307d44cf002f9583d1"
  },
  "kernelspec": {
   "display_name": "Python 3.8.3 64-bit",
   "name": "python3"
  },
  "language_info": {
   "codemirror_mode": {
    "name": "ipython",
    "version": 3
   },
   "file_extension": ".py",
   "mimetype": "text/x-python",
   "name": "python",
   "nbconvert_exporter": "python",
   "pygments_lexer": "ipython3",
   "version": "3.8.3"
  }
 },
 "nbformat": 4,
 "nbformat_minor": 4
}
