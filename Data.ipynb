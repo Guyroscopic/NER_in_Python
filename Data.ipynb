{
 "cells": [
  {
   "cell_type": "code",
   "execution_count": 10,
   "metadata": {},
   "outputs": [],
   "source": [
    "import pickle\n",
    "import pandas as pd\n",
    "import numpy as np\n",
    "\n",
    "from Sentence import Sentence\n",
    "\n",
    "from tensorflow.keras.preprocessing.text import text_to_word_sequence, Tokenizer"
   ]
  },
  {
   "cell_type": "code",
   "execution_count": 2,
   "metadata": {},
   "outputs": [],
   "source": [
    "class Data:\n",
    "    \n",
    "    def __init__(self, dataset, encoding):\n",
    "        self.dataset  = dataset\n",
    "        self.encoding = encoding\n",
    "        self.data     = self.load_dataset()\n",
    "        \n",
    "    def load_dataset(self):\n",
    "        data = pd.read_csv(self.dataset, encoding=self.encoding).fillna(method='ffill')\n",
    "        return data\n",
    "    \n",
    "    def display_data(self, n):\n",
    "        return self.data.head(n)\n",
    "      \n",
    "    def tokenize_data(self, vocab, lower=True):\n",
    "        t = Tokenizer(filters=SYMBOLS, lower=lower, oov_token='UNK')\n",
    "        t.fit_on_texts(list(vocab))\n",
    "\n",
    "        return t\n",
    "\n",
    "    def data_info(self):\n",
    "        n_sentences = len(self.data)\n",
    "        \n",
    "        words     = list(set(self.data['Word'].values))\n",
    "        n_words   = len(words)\n",
    "        \n",
    "        tags      = list(set(self.data['Tag'].values))\n",
    "        n_tags    = len(tags)\n",
    "        \n",
    "        print(f\"Total Sentences : {n_sentences}\\nTotal Number of Words : {n_words}\\nTotal Number of Tags : {n_tags}\")\n",
    "           \n",
    "        "
   ]
  },
  {
   "cell_type": "code",
   "execution_count": 3,
   "metadata": {},
   "outputs": [],
   "source": [
    "data = Data('ner_dataset.csv', encoding='latin1')\n",
    "sentence = Sentence(data.data)"
   ]
  },
  {
   "cell_type": "code",
   "execution_count": 4,
   "metadata": {},
   "outputs": [
    {
     "data": {
      "text/plain": [
       "98"
      ]
     },
     "execution_count": 4,
     "metadata": {},
     "output_type": "execute_result"
    }
   ],
   "source": [
    "len(sentence.get_unique_chars())"
   ]
  },
  {
   "cell_type": "code",
   "execution_count": 5,
   "metadata": {},
   "outputs": [
    {
     "name": "stdout",
     "output_type": "stream",
     "text": [
      "['_', 'g', '[', 'S', '/', '~', '#', '8', 'j', 'v', \"'\", '(', '1', '?', 'a', 'o', 'n', 'O', '\\x93', 'D', '&', '6', 'X', 'E', 'V', 'p', '9', 'L', 'B', '\\x97', '5', '\\x96', '3', 'N', 'A', '+', 'J', 's', 'C', '-', 'H', 'y', 'R', ']', 'ö', 'I', 't', '\\x92', 'Y', 'W', 'c', 'k', '%', '\\x91', '\"', '\\xa0', 'u', '°', 'T', '`', 'r', 'U', '$', 'G', 'Z', '.', ',', '\\x85', 'e', ':', '4', '@', 'l', 'w', '7', '\\x94', 'F', 'h', '2', ')', 'é', 'f', 'K', 'm', 'ë', 'z', 'M', 'q', 'Q', 'd', '!', 'P', ';', 'x', 'i', 'b', 'ü', '0'] "
     ]
    }
   ],
   "source": [
    "print(, end=\" \")"
   ]
  },
  {
   "cell_type": "code",
   "execution_count": 11,
   "metadata": {},
   "outputs": [],
   "source": [
    "with open('unique_chars.pkl', 'wb') as f:\n",
    "    pickle.dump(sentence.get_unique_chars(), f)\n"
   ]
  },
  {
   "cell_type": "code",
   "execution_count": 14,
   "metadata": {},
   "outputs": [],
   "source": [
    "with open('unique_chars.pkl', 'rb') as f:\n",
    "    test = pickle.load(f)"
   ]
  },
  {
   "cell_type": "code",
   "execution_count": null,
   "metadata": {},
   "outputs": [],
   "source": []
  }
 ],
 "metadata": {
  "kernelspec": {
   "display_name": "Python 3",
   "language": "python",
   "name": "python3"
  },
  "language_info": {
   "codemirror_mode": {
    "name": "ipython",
    "version": 3
   },
   "file_extension": ".py",
   "mimetype": "text/x-python",
   "name": "python",
   "nbconvert_exporter": "python",
   "pygments_lexer": "ipython3",
   "version": "3.7.4"
  }
 },
 "nbformat": 4,
 "nbformat_minor": 4
}
